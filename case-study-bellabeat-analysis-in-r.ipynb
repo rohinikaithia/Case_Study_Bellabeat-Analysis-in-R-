{
 "cells": [
  {
   "cell_type": "markdown",
   "id": "0d49be11",
   "metadata": {
    "_cell_guid": "4656f760-2fa7-44ac-90c3-6fd849fb60f9",
    "_uuid": "d8991ab6-6b88-4019-b009-21d7aac9f4ab",
    "papermill": {
     "duration": 0.014041,
     "end_time": "2023-09-05T12:25:57.002665",
     "exception": false,
     "start_time": "2023-09-05T12:25:56.988624",
     "status": "completed"
    },
    "tags": []
   },
   "source": [
    "## Title: 'BellaBeat: How Can a Wellness Technology Company Play It Smart?’\n",
    "## Author: \"Rohini Kaithia\"\n",
    "## Date: \"5/10/2021\""
   ]
  },
  {
   "cell_type": "markdown",
   "id": "7a1cb3bd",
   "metadata": {
    "_cell_guid": "a5ebb26b-b880-49b9-bd5c-36b915d1b128",
    "_uuid": "d83796d9-88af-4e84-91ed-37173659f0b3",
    "papermill": {
     "duration": 0.014196,
     "end_time": "2023-09-05T12:25:57.030797",
     "exception": false,
     "start_time": "2023-09-05T12:25:57.016601",
     "status": "completed"
    },
    "tags": []
   },
   "source": [
    "Introduction:\n",
    "About the company:\n",
    "\n",
    "Bellabeat, founded in 2013 is a high-tech company that manufactures health-focused smart products. Urška Sršen and Sando Mur founded Bellabeat. Sršen used her background as an artist to develop beautifully designed technology that informs and inspires women around the world. Collecting data on activity, sleep, stress, and reproductive health has allowed Bellabeat to empower women with knowledge about their own health and habits.\n",
    "\n",
    "This Bellabeat case study will follow the steps of the data analysis process: \n",
    "* Ask \n",
    "* Prepare\n",
    "* Process\n",
    "* Analyze \n",
    "* Share\n",
    "* Act\n",
    "\n",
    "Sršen knows that an analysis of Bellabeat’s available consumer data would reveal more opportunities for growth. I need to analyze smart device data to gain insight into how consumers are using their smart devices. \n",
    "\n",
    "Products: \n",
    "* Bellabeat app: The Bellabeat app provides users with health data related to their activity, sleep, stress, menstrual cycle, and mindfulness habits. This data can help users better understand their current habits and make healthy decisions. The Bellabeat app connects to their line of smart wellness products. \n",
    "* Leaf: Bellabeat’s classic wellness tracker can be worn as a bracelet, necklace, or clip. The Leaf tracker connects to the Bellabeat app to track activity, sleep, and stress. \n",
    "* Time: This wellness watch combines the timeless look of a classic timepiece with smart technology to track user activity, sleep, and stress. The Time watch connects to the Bellabeat app to provide you with insights into your daily wellness. \n",
    "* Spring: This is a water bottle that tracks daily water intake using smart technology to ensure that you are appropriately hydrated throughout the day. The Spring bottle connects to the Bellabeat app to track your hydration levels."
   ]
  },
  {
   "cell_type": "markdown",
   "id": "5616029d",
   "metadata": {
    "_cell_guid": "768301ea-9fcf-4414-ae53-c888cffd8ce3",
    "_uuid": "cd2d7b98-0072-4772-bf9d-48e8d9b01f27",
    "papermill": {
     "duration": 0.012423,
     "end_time": "2023-09-05T12:25:57.056050",
     "exception": false,
     "start_time": "2023-09-05T12:25:57.043627",
     "status": "completed"
    },
    "tags": []
   },
   "source": [
    "**PHASE1: ASK**\n",
    "\n",
    "**Identify the business task**:\n",
    "Identify patterns in the fitness data of customers and provide high level recommendations to the company to target their marketing efforts.\n",
    "\n",
    "**Consider Key stakeholders**:\n",
    "The main stakeholders here are Urška Sršen, Sando Mur and the rest of the Bellabeat marketing analytics team.\n",
    "\n",
    "**The business task**:\n",
    "Bellabeat's business task is to analyze smart device fitness data to unlock new growth opportunities and to gain insight into how customers are using their smart devices, which helps the marketing strategy of the company. For analysis, we examine:\n",
    "\n",
    "* What are some trends in smart device usage? \n",
    "* How could these trends apply to Bellabeat customers? \n",
    "* How could these trends help influence Bellabeat marketing strategy?"
   ]
  },
  {
   "cell_type": "markdown",
   "id": "51a413ba",
   "metadata": {
    "_cell_guid": "e541cb88-3b41-4d63-8d24-b388d58ebc65",
    "_uuid": "f0b1915d-477b-4acd-9fdd-6ab205a7a9ee",
    "papermill": {
     "duration": 0.011898,
     "end_time": "2023-09-05T12:25:57.081307",
     "exception": false,
     "start_time": "2023-09-05T12:25:57.069409",
     "status": "completed"
    },
    "tags": []
   },
   "source": [
    "**PHASE2: PREPARE**\n",
    "\n",
    "**DATASET:**\n",
    "\n",
    "FitBit Fitness Tracker Data (CC0: Public Domain, dataset made available through Mobius): This Kaggle data set contains personal fitness tracker from 30 fitbit users. 30 eligible Fitbit users consented to the submission of personal tracker data, including minute-level output for physical activity, heart rate, and sleep monitoring. It includes information about daily activity, steps, and heart rate that can be used to explore user's habits.\n",
    "The data was stored in the archive (.zip format file) and after unpacking it in .xls, I noticed that it is organized in long and wide format, both."
   ]
  },
  {
   "cell_type": "markdown",
   "id": "af00b275",
   "metadata": {
    "_cell_guid": "2bf07856-5bbb-4b76-923b-54364f72a7ce",
    "_uuid": "1d1a9958-303f-44d1-8cc0-5e8b01380e43",
    "papermill": {
     "duration": 0.011753,
     "end_time": "2023-09-05T12:25:57.104897",
     "exception": false,
     "start_time": "2023-09-05T12:25:57.093144",
     "status": "completed"
    },
    "tags": []
   },
   "source": [
    "**PHASE 3: PROCESS**\n",
    "\n",
    "Need to transform the data so that I can work with it effectively. For that I followed the following steps:\n",
    "* Unzipped the downloaded files in respective folders.\n",
    "* I opened all the files and found out few files were not opening (cause they were having a large amount of data and excel didn’t allow it). (Data can be opened using another tool, BigQuery or R)\n",
    "* Checked the correctness of data format. Sorted and filtered data to find any errors inside.\n",
    "* Cleaned the duplicates. \n",
    "* Transferred all data in R."
   ]
  },
  {
   "cell_type": "markdown",
   "id": "8fd85257",
   "metadata": {
    "_cell_guid": "437f42b4-a7bd-4170-b1d9-f3372f0d340b",
    "_uuid": "987404ff-328f-424d-97b2-84ca62e7b3bd",
    "papermill": {
     "duration": 0.011804,
     "end_time": "2023-09-05T12:25:57.129435",
     "exception": false,
     "start_time": "2023-09-05T12:25:57.117631",
     "status": "completed"
    },
    "tags": []
   },
   "source": [
    "**PHASE 4: ANALYZE**\n",
    "\n",
    "*Key Tasks:*\n",
    "\n",
    "* Perform calculations\n",
    "* Identify trends and relationships"
   ]
  },
  {
   "cell_type": "markdown",
   "id": "059f627b",
   "metadata": {
    "papermill": {
     "duration": 0.012101,
     "end_time": "2023-09-05T12:25:57.155004",
     "exception": false,
     "start_time": "2023-09-05T12:25:57.142903",
     "status": "completed"
    },
    "tags": []
   },
   "source": [
    "Lets load the required libraries. "
   ]
  },
  {
   "cell_type": "code",
   "execution_count": 1,
   "id": "bc71c4c4",
   "metadata": {
    "execution": {
     "iopub.execute_input": "2023-09-05T12:25:57.186768Z",
     "iopub.status.busy": "2023-09-05T12:25:57.186034Z",
     "iopub.status.idle": "2023-09-05T12:25:58.764475Z",
     "shell.execute_reply": "2023-09-05T12:25:58.762924Z"
    },
    "papermill": {
     "duration": 1.597699,
     "end_time": "2023-09-05T12:25:58.764681",
     "exception": false,
     "start_time": "2023-09-05T12:25:57.166982",
     "status": "completed"
    },
    "tags": []
   },
   "outputs": [
    {
     "name": "stderr",
     "output_type": "stream",
     "text": [
      "── \u001b[1mAttaching packages\u001b[22m ─────────────────────────────────────── tidyverse 1.3.1 ──\n",
      "\n",
      "\u001b[32m✔\u001b[39m \u001b[34mggplot2\u001b[39m 3.3.5     \u001b[32m✔\u001b[39m \u001b[34mpurrr  \u001b[39m 0.3.4\n",
      "\u001b[32m✔\u001b[39m \u001b[34mtibble \u001b[39m 3.1.4     \u001b[32m✔\u001b[39m \u001b[34mdplyr  \u001b[39m 1.0.7\n",
      "\u001b[32m✔\u001b[39m \u001b[34mtidyr  \u001b[39m 1.1.3     \u001b[32m✔\u001b[39m \u001b[34mstringr\u001b[39m 1.4.0\n",
      "\u001b[32m✔\u001b[39m \u001b[34mreadr  \u001b[39m 2.0.1     \u001b[32m✔\u001b[39m \u001b[34mforcats\u001b[39m 0.5.1\n",
      "\n",
      "── \u001b[1mConflicts\u001b[22m ────────────────────────────────────────── tidyverse_conflicts() ──\n",
      "\u001b[31m✖\u001b[39m \u001b[34mdplyr\u001b[39m::\u001b[32mfilter()\u001b[39m masks \u001b[34mstats\u001b[39m::filter()\n",
      "\u001b[31m✖\u001b[39m \u001b[34mdplyr\u001b[39m::\u001b[32mlag()\u001b[39m    masks \u001b[34mstats\u001b[39m::lag()\n",
      "\n",
      "\n",
      "Attaching package: ‘lubridate’\n",
      "\n",
      "\n",
      "The following objects are masked from ‘package:base’:\n",
      "\n",
      "    date, intersect, setdiff, union\n",
      "\n",
      "\n"
     ]
    }
   ],
   "source": [
    "library(tidyverse)\n",
    "library(dplyr)\n",
    "library(skimr)\n",
    "library(lubridate)\n",
    "library(ggplot2)\n",
    "library(tidyr)"
   ]
  },
  {
   "cell_type": "code",
   "execution_count": 2,
   "id": "8f6f6946",
   "metadata": {
    "execution": {
     "iopub.execute_input": "2023-09-05T12:25:58.829659Z",
     "iopub.status.busy": "2023-09-05T12:25:58.795193Z",
     "iopub.status.idle": "2023-09-05T12:25:59.026534Z",
     "shell.execute_reply": "2023-09-05T12:25:59.024968Z"
    },
    "papermill": {
     "duration": 0.249211,
     "end_time": "2023-09-05T12:25:59.026696",
     "exception": false,
     "start_time": "2023-09-05T12:25:58.777485",
     "status": "completed"
    },
    "tags": []
   },
   "outputs": [],
   "source": [
    "# Importing datasets\n",
    "\n",
    "daily_activity <- read.csv(\"../input/fitbit-dailyactivity/dailyActivity_merged.csv\")\n",
    "daily_calories <- read.csv(\"../input/fitbit-dailycalories/dailyCalories_merged.csv\")\n",
    "daily_intensities <- read.csv(\"../input/fitbit-dailyintensities/dailyIntensities_merged.csv\")\n",
    "daily_steps <- read.csv(\"../input/fitbit-dailysteps/dailySteps_merged.csv\")\n",
    "hourly_calories <- read.csv(\"../input/fitbit-hourlycalories/hourlyCalories_merged.csv\")\n",
    "hourly_intensities <- read.csv(\"../input/fitbit-hourlyintensities/hourlyIntensities_merged.csv\")\n",
    "sleep_day <- read.csv(\"../input/sleepday/sleepDay_merged.csv\")\n",
    "weight_log <- read.csv(\"../input/fitbit-weightloginfo/weightLogInfo_merged.csv\")\n"
   ]
  },
  {
   "cell_type": "markdown",
   "id": "81a1a2a1",
   "metadata": {
    "papermill": {
     "duration": 0.01303,
     "end_time": "2023-09-05T12:25:59.052346",
     "exception": false,
     "start_time": "2023-09-05T12:25:59.039316",
     "status": "completed"
    },
    "tags": []
   },
   "source": [
    "*Lets check if our data is loaded correctly.* "
   ]
  },
  {
   "cell_type": "code",
   "execution_count": 3,
   "id": "e3a82b13",
   "metadata": {
    "execution": {
     "iopub.execute_input": "2023-09-05T12:25:59.085706Z",
     "iopub.status.busy": "2023-09-05T12:25:59.084451Z",
     "iopub.status.idle": "2023-09-05T12:25:59.119691Z",
     "shell.execute_reply": "2023-09-05T12:25:59.118090Z"
    },
    "papermill": {
     "duration": 0.053157,
     "end_time": "2023-09-05T12:25:59.119883",
     "exception": false,
     "start_time": "2023-09-05T12:25:59.066726",
     "status": "completed"
    },
    "tags": []
   },
   "outputs": [
    {
     "data": {
      "text/html": [
       "<table class=\"dataframe\">\n",
       "<caption>A data.frame: 4 × 15</caption>\n",
       "<thead>\n",
       "\t<tr><th></th><th scope=col>Id</th><th scope=col>ActivityDate</th><th scope=col>TotalSteps</th><th scope=col>TotalDistance</th><th scope=col>TrackerDistance</th><th scope=col>LoggedActivitiesDistance</th><th scope=col>VeryActiveDistance</th><th scope=col>ModeratelyActiveDistance</th><th scope=col>LightActiveDistance</th><th scope=col>SedentaryActiveDistance</th><th scope=col>VeryActiveMinutes</th><th scope=col>FairlyActiveMinutes</th><th scope=col>LightlyActiveMinutes</th><th scope=col>SedentaryMinutes</th><th scope=col>Calories</th></tr>\n",
       "\t<tr><th></th><th scope=col>&lt;dbl&gt;</th><th scope=col>&lt;chr&gt;</th><th scope=col>&lt;int&gt;</th><th scope=col>&lt;dbl&gt;</th><th scope=col>&lt;dbl&gt;</th><th scope=col>&lt;dbl&gt;</th><th scope=col>&lt;dbl&gt;</th><th scope=col>&lt;dbl&gt;</th><th scope=col>&lt;dbl&gt;</th><th scope=col>&lt;dbl&gt;</th><th scope=col>&lt;int&gt;</th><th scope=col>&lt;int&gt;</th><th scope=col>&lt;int&gt;</th><th scope=col>&lt;int&gt;</th><th scope=col>&lt;int&gt;</th></tr>\n",
       "</thead>\n",
       "<tbody>\n",
       "\t<tr><th scope=row>1</th><td>1503960366</td><td>4/12/2016</td><td>13162</td><td>8.50</td><td>8.50</td><td>0</td><td>1.88</td><td>0.55</td><td>6.06</td><td>0</td><td>25</td><td>13</td><td>328</td><td> 728</td><td>1985</td></tr>\n",
       "\t<tr><th scope=row>2</th><td>1503960366</td><td>4/13/2016</td><td>10735</td><td>6.97</td><td>6.97</td><td>0</td><td>1.57</td><td>0.69</td><td>4.71</td><td>0</td><td>21</td><td>19</td><td>217</td><td> 776</td><td>1797</td></tr>\n",
       "\t<tr><th scope=row>3</th><td>1503960366</td><td>4/14/2016</td><td>10460</td><td>6.74</td><td>6.74</td><td>0</td><td>2.44</td><td>0.40</td><td>3.91</td><td>0</td><td>30</td><td>11</td><td>181</td><td>1218</td><td>1776</td></tr>\n",
       "\t<tr><th scope=row>4</th><td>1503960366</td><td>4/15/2016</td><td> 9762</td><td>6.28</td><td>6.28</td><td>0</td><td>2.14</td><td>1.26</td><td>2.83</td><td>0</td><td>29</td><td>34</td><td>209</td><td> 726</td><td>1745</td></tr>\n",
       "</tbody>\n",
       "</table>\n"
      ],
      "text/latex": [
       "A data.frame: 4 × 15\n",
       "\\begin{tabular}{r|lllllllllllllll}\n",
       "  & Id & ActivityDate & TotalSteps & TotalDistance & TrackerDistance & LoggedActivitiesDistance & VeryActiveDistance & ModeratelyActiveDistance & LightActiveDistance & SedentaryActiveDistance & VeryActiveMinutes & FairlyActiveMinutes & LightlyActiveMinutes & SedentaryMinutes & Calories\\\\\n",
       "  & <dbl> & <chr> & <int> & <dbl> & <dbl> & <dbl> & <dbl> & <dbl> & <dbl> & <dbl> & <int> & <int> & <int> & <int> & <int>\\\\\n",
       "\\hline\n",
       "\t1 & 1503960366 & 4/12/2016 & 13162 & 8.50 & 8.50 & 0 & 1.88 & 0.55 & 6.06 & 0 & 25 & 13 & 328 &  728 & 1985\\\\\n",
       "\t2 & 1503960366 & 4/13/2016 & 10735 & 6.97 & 6.97 & 0 & 1.57 & 0.69 & 4.71 & 0 & 21 & 19 & 217 &  776 & 1797\\\\\n",
       "\t3 & 1503960366 & 4/14/2016 & 10460 & 6.74 & 6.74 & 0 & 2.44 & 0.40 & 3.91 & 0 & 30 & 11 & 181 & 1218 & 1776\\\\\n",
       "\t4 & 1503960366 & 4/15/2016 &  9762 & 6.28 & 6.28 & 0 & 2.14 & 1.26 & 2.83 & 0 & 29 & 34 & 209 &  726 & 1745\\\\\n",
       "\\end{tabular}\n"
      ],
      "text/markdown": [
       "\n",
       "A data.frame: 4 × 15\n",
       "\n",
       "| <!--/--> | Id &lt;dbl&gt; | ActivityDate &lt;chr&gt; | TotalSteps &lt;int&gt; | TotalDistance &lt;dbl&gt; | TrackerDistance &lt;dbl&gt; | LoggedActivitiesDistance &lt;dbl&gt; | VeryActiveDistance &lt;dbl&gt; | ModeratelyActiveDistance &lt;dbl&gt; | LightActiveDistance &lt;dbl&gt; | SedentaryActiveDistance &lt;dbl&gt; | VeryActiveMinutes &lt;int&gt; | FairlyActiveMinutes &lt;int&gt; | LightlyActiveMinutes &lt;int&gt; | SedentaryMinutes &lt;int&gt; | Calories &lt;int&gt; |\n",
       "|---|---|---|---|---|---|---|---|---|---|---|---|---|---|---|---|\n",
       "| 1 | 1503960366 | 4/12/2016 | 13162 | 8.50 | 8.50 | 0 | 1.88 | 0.55 | 6.06 | 0 | 25 | 13 | 328 |  728 | 1985 |\n",
       "| 2 | 1503960366 | 4/13/2016 | 10735 | 6.97 | 6.97 | 0 | 1.57 | 0.69 | 4.71 | 0 | 21 | 19 | 217 |  776 | 1797 |\n",
       "| 3 | 1503960366 | 4/14/2016 | 10460 | 6.74 | 6.74 | 0 | 2.44 | 0.40 | 3.91 | 0 | 30 | 11 | 181 | 1218 | 1776 |\n",
       "| 4 | 1503960366 | 4/15/2016 |  9762 | 6.28 | 6.28 | 0 | 2.14 | 1.26 | 2.83 | 0 | 29 | 34 | 209 |  726 | 1745 |\n",
       "\n"
      ],
      "text/plain": [
       "  Id         ActivityDate TotalSteps TotalDistance TrackerDistance\n",
       "1 1503960366 4/12/2016    13162      8.50          8.50           \n",
       "2 1503960366 4/13/2016    10735      6.97          6.97           \n",
       "3 1503960366 4/14/2016    10460      6.74          6.74           \n",
       "4 1503960366 4/15/2016     9762      6.28          6.28           \n",
       "  LoggedActivitiesDistance VeryActiveDistance ModeratelyActiveDistance\n",
       "1 0                        1.88               0.55                    \n",
       "2 0                        1.57               0.69                    \n",
       "3 0                        2.44               0.40                    \n",
       "4 0                        2.14               1.26                    \n",
       "  LightActiveDistance SedentaryActiveDistance VeryActiveMinutes\n",
       "1 6.06                0                       25               \n",
       "2 4.71                0                       21               \n",
       "3 3.91                0                       30               \n",
       "4 2.83                0                       29               \n",
       "  FairlyActiveMinutes LightlyActiveMinutes SedentaryMinutes Calories\n",
       "1 13                  328                   728             1985    \n",
       "2 19                  217                   776             1797    \n",
       "3 11                  181                  1218             1776    \n",
       "4 34                  209                   726             1745    "
      ]
     },
     "metadata": {},
     "output_type": "display_data"
    }
   ],
   "source": [
    "head(daily_activity,4)"
   ]
  },
  {
   "cell_type": "code",
   "execution_count": 4,
   "id": "9455df36",
   "metadata": {
    "execution": {
     "iopub.execute_input": "2023-09-05T12:25:59.152063Z",
     "iopub.status.busy": "2023-09-05T12:25:59.150378Z",
     "iopub.status.idle": "2023-09-05T12:25:59.184114Z",
     "shell.execute_reply": "2023-09-05T12:25:59.182551Z"
    },
    "papermill": {
     "duration": 0.051574,
     "end_time": "2023-09-05T12:25:59.184291",
     "exception": false,
     "start_time": "2023-09-05T12:25:59.132717",
     "status": "completed"
    },
    "tags": []
   },
   "outputs": [
    {
     "data": {
      "text/html": [
       "<table class=\"dataframe\">\n",
       "<caption>A data.frame: 4 × 3</caption>\n",
       "<thead>\n",
       "\t<tr><th></th><th scope=col>Id</th><th scope=col>ActivityDay</th><th scope=col>Calories</th></tr>\n",
       "\t<tr><th></th><th scope=col>&lt;dbl&gt;</th><th scope=col>&lt;chr&gt;</th><th scope=col>&lt;int&gt;</th></tr>\n",
       "</thead>\n",
       "<tbody>\n",
       "\t<tr><th scope=row>1</th><td>1503960366</td><td>4/12/2016</td><td>1985</td></tr>\n",
       "\t<tr><th scope=row>2</th><td>1503960366</td><td>4/13/2016</td><td>1797</td></tr>\n",
       "\t<tr><th scope=row>3</th><td>1503960366</td><td>4/14/2016</td><td>1776</td></tr>\n",
       "\t<tr><th scope=row>4</th><td>1503960366</td><td>4/15/2016</td><td>1745</td></tr>\n",
       "</tbody>\n",
       "</table>\n"
      ],
      "text/latex": [
       "A data.frame: 4 × 3\n",
       "\\begin{tabular}{r|lll}\n",
       "  & Id & ActivityDay & Calories\\\\\n",
       "  & <dbl> & <chr> & <int>\\\\\n",
       "\\hline\n",
       "\t1 & 1503960366 & 4/12/2016 & 1985\\\\\n",
       "\t2 & 1503960366 & 4/13/2016 & 1797\\\\\n",
       "\t3 & 1503960366 & 4/14/2016 & 1776\\\\\n",
       "\t4 & 1503960366 & 4/15/2016 & 1745\\\\\n",
       "\\end{tabular}\n"
      ],
      "text/markdown": [
       "\n",
       "A data.frame: 4 × 3\n",
       "\n",
       "| <!--/--> | Id &lt;dbl&gt; | ActivityDay &lt;chr&gt; | Calories &lt;int&gt; |\n",
       "|---|---|---|---|\n",
       "| 1 | 1503960366 | 4/12/2016 | 1985 |\n",
       "| 2 | 1503960366 | 4/13/2016 | 1797 |\n",
       "| 3 | 1503960366 | 4/14/2016 | 1776 |\n",
       "| 4 | 1503960366 | 4/15/2016 | 1745 |\n",
       "\n"
      ],
      "text/plain": [
       "  Id         ActivityDay Calories\n",
       "1 1503960366 4/12/2016   1985    \n",
       "2 1503960366 4/13/2016   1797    \n",
       "3 1503960366 4/14/2016   1776    \n",
       "4 1503960366 4/15/2016   1745    "
      ]
     },
     "metadata": {},
     "output_type": "display_data"
    }
   ],
   "source": [
    "head(daily_calories,4)"
   ]
  },
  {
   "cell_type": "code",
   "execution_count": 5,
   "id": "7e950d81",
   "metadata": {
    "execution": {
     "iopub.execute_input": "2023-09-05T12:25:59.218045Z",
     "iopub.status.busy": "2023-09-05T12:25:59.215896Z",
     "iopub.status.idle": "2023-09-05T12:25:59.243381Z",
     "shell.execute_reply": "2023-09-05T12:25:59.242272Z"
    },
    "papermill": {
     "duration": 0.045312,
     "end_time": "2023-09-05T12:25:59.243554",
     "exception": false,
     "start_time": "2023-09-05T12:25:59.198242",
     "status": "completed"
    },
    "tags": []
   },
   "outputs": [
    {
     "data": {
      "text/html": [
       "<table class=\"dataframe\">\n",
       "<caption>A data.frame: 4 × 10</caption>\n",
       "<thead>\n",
       "\t<tr><th></th><th scope=col>Id</th><th scope=col>ActivityDay</th><th scope=col>SedentaryMinutes</th><th scope=col>LightlyActiveMinutes</th><th scope=col>FairlyActiveMinutes</th><th scope=col>VeryActiveMinutes</th><th scope=col>SedentaryActiveDistance</th><th scope=col>LightActiveDistance</th><th scope=col>ModeratelyActiveDistance</th><th scope=col>VeryActiveDistance</th></tr>\n",
       "\t<tr><th></th><th scope=col>&lt;dbl&gt;</th><th scope=col>&lt;chr&gt;</th><th scope=col>&lt;int&gt;</th><th scope=col>&lt;int&gt;</th><th scope=col>&lt;int&gt;</th><th scope=col>&lt;int&gt;</th><th scope=col>&lt;dbl&gt;</th><th scope=col>&lt;dbl&gt;</th><th scope=col>&lt;dbl&gt;</th><th scope=col>&lt;dbl&gt;</th></tr>\n",
       "</thead>\n",
       "<tbody>\n",
       "\t<tr><th scope=row>1</th><td>1503960366</td><td>4/12/2016</td><td> 728</td><td>328</td><td>13</td><td>25</td><td>0</td><td>6.06</td><td>0.55</td><td>1.88</td></tr>\n",
       "\t<tr><th scope=row>2</th><td>1503960366</td><td>4/13/2016</td><td> 776</td><td>217</td><td>19</td><td>21</td><td>0</td><td>4.71</td><td>0.69</td><td>1.57</td></tr>\n",
       "\t<tr><th scope=row>3</th><td>1503960366</td><td>4/14/2016</td><td>1218</td><td>181</td><td>11</td><td>30</td><td>0</td><td>3.91</td><td>0.40</td><td>2.44</td></tr>\n",
       "\t<tr><th scope=row>4</th><td>1503960366</td><td>4/15/2016</td><td> 726</td><td>209</td><td>34</td><td>29</td><td>0</td><td>2.83</td><td>1.26</td><td>2.14</td></tr>\n",
       "</tbody>\n",
       "</table>\n"
      ],
      "text/latex": [
       "A data.frame: 4 × 10\n",
       "\\begin{tabular}{r|llllllllll}\n",
       "  & Id & ActivityDay & SedentaryMinutes & LightlyActiveMinutes & FairlyActiveMinutes & VeryActiveMinutes & SedentaryActiveDistance & LightActiveDistance & ModeratelyActiveDistance & VeryActiveDistance\\\\\n",
       "  & <dbl> & <chr> & <int> & <int> & <int> & <int> & <dbl> & <dbl> & <dbl> & <dbl>\\\\\n",
       "\\hline\n",
       "\t1 & 1503960366 & 4/12/2016 &  728 & 328 & 13 & 25 & 0 & 6.06 & 0.55 & 1.88\\\\\n",
       "\t2 & 1503960366 & 4/13/2016 &  776 & 217 & 19 & 21 & 0 & 4.71 & 0.69 & 1.57\\\\\n",
       "\t3 & 1503960366 & 4/14/2016 & 1218 & 181 & 11 & 30 & 0 & 3.91 & 0.40 & 2.44\\\\\n",
       "\t4 & 1503960366 & 4/15/2016 &  726 & 209 & 34 & 29 & 0 & 2.83 & 1.26 & 2.14\\\\\n",
       "\\end{tabular}\n"
      ],
      "text/markdown": [
       "\n",
       "A data.frame: 4 × 10\n",
       "\n",
       "| <!--/--> | Id &lt;dbl&gt; | ActivityDay &lt;chr&gt; | SedentaryMinutes &lt;int&gt; | LightlyActiveMinutes &lt;int&gt; | FairlyActiveMinutes &lt;int&gt; | VeryActiveMinutes &lt;int&gt; | SedentaryActiveDistance &lt;dbl&gt; | LightActiveDistance &lt;dbl&gt; | ModeratelyActiveDistance &lt;dbl&gt; | VeryActiveDistance &lt;dbl&gt; |\n",
       "|---|---|---|---|---|---|---|---|---|---|---|\n",
       "| 1 | 1503960366 | 4/12/2016 |  728 | 328 | 13 | 25 | 0 | 6.06 | 0.55 | 1.88 |\n",
       "| 2 | 1503960366 | 4/13/2016 |  776 | 217 | 19 | 21 | 0 | 4.71 | 0.69 | 1.57 |\n",
       "| 3 | 1503960366 | 4/14/2016 | 1218 | 181 | 11 | 30 | 0 | 3.91 | 0.40 | 2.44 |\n",
       "| 4 | 1503960366 | 4/15/2016 |  726 | 209 | 34 | 29 | 0 | 2.83 | 1.26 | 2.14 |\n",
       "\n"
      ],
      "text/plain": [
       "  Id         ActivityDay SedentaryMinutes LightlyActiveMinutes\n",
       "1 1503960366 4/12/2016    728             328                 \n",
       "2 1503960366 4/13/2016    776             217                 \n",
       "3 1503960366 4/14/2016   1218             181                 \n",
       "4 1503960366 4/15/2016    726             209                 \n",
       "  FairlyActiveMinutes VeryActiveMinutes SedentaryActiveDistance\n",
       "1 13                  25                0                      \n",
       "2 19                  21                0                      \n",
       "3 11                  30                0                      \n",
       "4 34                  29                0                      \n",
       "  LightActiveDistance ModeratelyActiveDistance VeryActiveDistance\n",
       "1 6.06                0.55                     1.88              \n",
       "2 4.71                0.69                     1.57              \n",
       "3 3.91                0.40                     2.44              \n",
       "4 2.83                1.26                     2.14              "
      ]
     },
     "metadata": {},
     "output_type": "display_data"
    }
   ],
   "source": [
    "head(daily_intensities,4)"
   ]
  },
  {
   "cell_type": "code",
   "execution_count": 6,
   "id": "e735fd0e",
   "metadata": {
    "execution": {
     "iopub.execute_input": "2023-09-05T12:25:59.278251Z",
     "iopub.status.busy": "2023-09-05T12:25:59.276655Z",
     "iopub.status.idle": "2023-09-05T12:25:59.302633Z",
     "shell.execute_reply": "2023-09-05T12:25:59.300795Z"
    },
    "papermill": {
     "duration": 0.045544,
     "end_time": "2023-09-05T12:25:59.302818",
     "exception": false,
     "start_time": "2023-09-05T12:25:59.257274",
     "status": "completed"
    },
    "tags": []
   },
   "outputs": [
    {
     "data": {
      "text/html": [
       "<table class=\"dataframe\">\n",
       "<caption>A data.frame: 4 × 3</caption>\n",
       "<thead>\n",
       "\t<tr><th></th><th scope=col>Id</th><th scope=col>ActivityDay</th><th scope=col>StepTotal</th></tr>\n",
       "\t<tr><th></th><th scope=col>&lt;dbl&gt;</th><th scope=col>&lt;chr&gt;</th><th scope=col>&lt;int&gt;</th></tr>\n",
       "</thead>\n",
       "<tbody>\n",
       "\t<tr><th scope=row>1</th><td>1503960366</td><td>4/12/2016</td><td>13162</td></tr>\n",
       "\t<tr><th scope=row>2</th><td>1503960366</td><td>4/13/2016</td><td>10735</td></tr>\n",
       "\t<tr><th scope=row>3</th><td>1503960366</td><td>4/14/2016</td><td>10460</td></tr>\n",
       "\t<tr><th scope=row>4</th><td>1503960366</td><td>4/15/2016</td><td> 9762</td></tr>\n",
       "</tbody>\n",
       "</table>\n"
      ],
      "text/latex": [
       "A data.frame: 4 × 3\n",
       "\\begin{tabular}{r|lll}\n",
       "  & Id & ActivityDay & StepTotal\\\\\n",
       "  & <dbl> & <chr> & <int>\\\\\n",
       "\\hline\n",
       "\t1 & 1503960366 & 4/12/2016 & 13162\\\\\n",
       "\t2 & 1503960366 & 4/13/2016 & 10735\\\\\n",
       "\t3 & 1503960366 & 4/14/2016 & 10460\\\\\n",
       "\t4 & 1503960366 & 4/15/2016 &  9762\\\\\n",
       "\\end{tabular}\n"
      ],
      "text/markdown": [
       "\n",
       "A data.frame: 4 × 3\n",
       "\n",
       "| <!--/--> | Id &lt;dbl&gt; | ActivityDay &lt;chr&gt; | StepTotal &lt;int&gt; |\n",
       "|---|---|---|---|\n",
       "| 1 | 1503960366 | 4/12/2016 | 13162 |\n",
       "| 2 | 1503960366 | 4/13/2016 | 10735 |\n",
       "| 3 | 1503960366 | 4/14/2016 | 10460 |\n",
       "| 4 | 1503960366 | 4/15/2016 |  9762 |\n",
       "\n"
      ],
      "text/plain": [
       "  Id         ActivityDay StepTotal\n",
       "1 1503960366 4/12/2016   13162    \n",
       "2 1503960366 4/13/2016   10735    \n",
       "3 1503960366 4/14/2016   10460    \n",
       "4 1503960366 4/15/2016    9762    "
      ]
     },
     "metadata": {},
     "output_type": "display_data"
    }
   ],
   "source": [
    "head(daily_steps,4)"
   ]
  },
  {
   "cell_type": "code",
   "execution_count": 7,
   "id": "d93c88f0",
   "metadata": {
    "execution": {
     "iopub.execute_input": "2023-09-05T12:25:59.337337Z",
     "iopub.status.busy": "2023-09-05T12:25:59.335531Z",
     "iopub.status.idle": "2023-09-05T12:25:59.360373Z",
     "shell.execute_reply": "2023-09-05T12:25:59.358756Z"
    },
    "papermill": {
     "duration": 0.043319,
     "end_time": "2023-09-05T12:25:59.360527",
     "exception": false,
     "start_time": "2023-09-05T12:25:59.317208",
     "status": "completed"
    },
    "tags": []
   },
   "outputs": [
    {
     "data": {
      "text/html": [
       "<table class=\"dataframe\">\n",
       "<caption>A data.frame: 4 × 3</caption>\n",
       "<thead>\n",
       "\t<tr><th></th><th scope=col>Id</th><th scope=col>ActivityHour</th><th scope=col>Calories</th></tr>\n",
       "\t<tr><th></th><th scope=col>&lt;dbl&gt;</th><th scope=col>&lt;chr&gt;</th><th scope=col>&lt;int&gt;</th></tr>\n",
       "</thead>\n",
       "<tbody>\n",
       "\t<tr><th scope=row>1</th><td>1503960366</td><td>4/12/2016 12:00:00 AM</td><td>81</td></tr>\n",
       "\t<tr><th scope=row>2</th><td>1503960366</td><td>4/12/2016 1:00:00 AM </td><td>61</td></tr>\n",
       "\t<tr><th scope=row>3</th><td>1503960366</td><td>4/12/2016 2:00:00 AM </td><td>59</td></tr>\n",
       "\t<tr><th scope=row>4</th><td>1503960366</td><td>4/12/2016 3:00:00 AM </td><td>47</td></tr>\n",
       "</tbody>\n",
       "</table>\n"
      ],
      "text/latex": [
       "A data.frame: 4 × 3\n",
       "\\begin{tabular}{r|lll}\n",
       "  & Id & ActivityHour & Calories\\\\\n",
       "  & <dbl> & <chr> & <int>\\\\\n",
       "\\hline\n",
       "\t1 & 1503960366 & 4/12/2016 12:00:00 AM & 81\\\\\n",
       "\t2 & 1503960366 & 4/12/2016 1:00:00 AM  & 61\\\\\n",
       "\t3 & 1503960366 & 4/12/2016 2:00:00 AM  & 59\\\\\n",
       "\t4 & 1503960366 & 4/12/2016 3:00:00 AM  & 47\\\\\n",
       "\\end{tabular}\n"
      ],
      "text/markdown": [
       "\n",
       "A data.frame: 4 × 3\n",
       "\n",
       "| <!--/--> | Id &lt;dbl&gt; | ActivityHour &lt;chr&gt; | Calories &lt;int&gt; |\n",
       "|---|---|---|---|\n",
       "| 1 | 1503960366 | 4/12/2016 12:00:00 AM | 81 |\n",
       "| 2 | 1503960366 | 4/12/2016 1:00:00 AM  | 61 |\n",
       "| 3 | 1503960366 | 4/12/2016 2:00:00 AM  | 59 |\n",
       "| 4 | 1503960366 | 4/12/2016 3:00:00 AM  | 47 |\n",
       "\n"
      ],
      "text/plain": [
       "  Id         ActivityHour          Calories\n",
       "1 1503960366 4/12/2016 12:00:00 AM 81      \n",
       "2 1503960366 4/12/2016 1:00:00 AM  61      \n",
       "3 1503960366 4/12/2016 2:00:00 AM  59      \n",
       "4 1503960366 4/12/2016 3:00:00 AM  47      "
      ]
     },
     "metadata": {},
     "output_type": "display_data"
    }
   ],
   "source": [
    "head(hourly_calories,4)"
   ]
  },
  {
   "cell_type": "code",
   "execution_count": 8,
   "id": "4ed96d1a",
   "metadata": {
    "execution": {
     "iopub.execute_input": "2023-09-05T12:25:59.394543Z",
     "iopub.status.busy": "2023-09-05T12:25:59.392392Z",
     "iopub.status.idle": "2023-09-05T12:25:59.419295Z",
     "shell.execute_reply": "2023-09-05T12:25:59.417425Z"
    },
    "papermill": {
     "duration": 0.045271,
     "end_time": "2023-09-05T12:25:59.419481",
     "exception": false,
     "start_time": "2023-09-05T12:25:59.374210",
     "status": "completed"
    },
    "tags": []
   },
   "outputs": [
    {
     "data": {
      "text/html": [
       "<table class=\"dataframe\">\n",
       "<caption>A data.frame: 4 × 4</caption>\n",
       "<thead>\n",
       "\t<tr><th></th><th scope=col>Id</th><th scope=col>ActivityHour</th><th scope=col>TotalIntensity</th><th scope=col>AverageIntensity</th></tr>\n",
       "\t<tr><th></th><th scope=col>&lt;dbl&gt;</th><th scope=col>&lt;chr&gt;</th><th scope=col>&lt;int&gt;</th><th scope=col>&lt;dbl&gt;</th></tr>\n",
       "</thead>\n",
       "<tbody>\n",
       "\t<tr><th scope=row>1</th><td>1503960366</td><td>4/12/2016 12:00:00 AM</td><td>20</td><td>0.333333</td></tr>\n",
       "\t<tr><th scope=row>2</th><td>1503960366</td><td>4/12/2016 1:00:00 AM </td><td> 8</td><td>0.133333</td></tr>\n",
       "\t<tr><th scope=row>3</th><td>1503960366</td><td>4/12/2016 2:00:00 AM </td><td> 7</td><td>0.116667</td></tr>\n",
       "\t<tr><th scope=row>4</th><td>1503960366</td><td>4/12/2016 3:00:00 AM </td><td> 0</td><td>0.000000</td></tr>\n",
       "</tbody>\n",
       "</table>\n"
      ],
      "text/latex": [
       "A data.frame: 4 × 4\n",
       "\\begin{tabular}{r|llll}\n",
       "  & Id & ActivityHour & TotalIntensity & AverageIntensity\\\\\n",
       "  & <dbl> & <chr> & <int> & <dbl>\\\\\n",
       "\\hline\n",
       "\t1 & 1503960366 & 4/12/2016 12:00:00 AM & 20 & 0.333333\\\\\n",
       "\t2 & 1503960366 & 4/12/2016 1:00:00 AM  &  8 & 0.133333\\\\\n",
       "\t3 & 1503960366 & 4/12/2016 2:00:00 AM  &  7 & 0.116667\\\\\n",
       "\t4 & 1503960366 & 4/12/2016 3:00:00 AM  &  0 & 0.000000\\\\\n",
       "\\end{tabular}\n"
      ],
      "text/markdown": [
       "\n",
       "A data.frame: 4 × 4\n",
       "\n",
       "| <!--/--> | Id &lt;dbl&gt; | ActivityHour &lt;chr&gt; | TotalIntensity &lt;int&gt; | AverageIntensity &lt;dbl&gt; |\n",
       "|---|---|---|---|---|\n",
       "| 1 | 1503960366 | 4/12/2016 12:00:00 AM | 20 | 0.333333 |\n",
       "| 2 | 1503960366 | 4/12/2016 1:00:00 AM  |  8 | 0.133333 |\n",
       "| 3 | 1503960366 | 4/12/2016 2:00:00 AM  |  7 | 0.116667 |\n",
       "| 4 | 1503960366 | 4/12/2016 3:00:00 AM  |  0 | 0.000000 |\n",
       "\n"
      ],
      "text/plain": [
       "  Id         ActivityHour          TotalIntensity AverageIntensity\n",
       "1 1503960366 4/12/2016 12:00:00 AM 20             0.333333        \n",
       "2 1503960366 4/12/2016 1:00:00 AM   8             0.133333        \n",
       "3 1503960366 4/12/2016 2:00:00 AM   7             0.116667        \n",
       "4 1503960366 4/12/2016 3:00:00 AM   0             0.000000        "
      ]
     },
     "metadata": {},
     "output_type": "display_data"
    }
   ],
   "source": [
    "head(hourly_intensities,4)"
   ]
  },
  {
   "cell_type": "code",
   "execution_count": 9,
   "id": "d6f054c5",
   "metadata": {
    "execution": {
     "iopub.execute_input": "2023-09-05T12:25:59.453405Z",
     "iopub.status.busy": "2023-09-05T12:25:59.451707Z",
     "iopub.status.idle": "2023-09-05T12:25:59.478189Z",
     "shell.execute_reply": "2023-09-05T12:25:59.476528Z"
    },
    "papermill": {
     "duration": 0.044743,
     "end_time": "2023-09-05T12:25:59.478357",
     "exception": false,
     "start_time": "2023-09-05T12:25:59.433614",
     "status": "completed"
    },
    "tags": []
   },
   "outputs": [
    {
     "data": {
      "text/html": [
       "<table class=\"dataframe\">\n",
       "<caption>A data.frame: 4 × 5</caption>\n",
       "<thead>\n",
       "\t<tr><th></th><th scope=col>Id</th><th scope=col>SleepDay</th><th scope=col>TotalSleepRecords</th><th scope=col>TotalMinutesAsleep</th><th scope=col>TotalTimeInBed</th></tr>\n",
       "\t<tr><th></th><th scope=col>&lt;dbl&gt;</th><th scope=col>&lt;chr&gt;</th><th scope=col>&lt;int&gt;</th><th scope=col>&lt;int&gt;</th><th scope=col>&lt;int&gt;</th></tr>\n",
       "</thead>\n",
       "<tbody>\n",
       "\t<tr><th scope=row>1</th><td>1503960366</td><td>4/12/2016 12:00:00 AM</td><td>1</td><td>327</td><td>346</td></tr>\n",
       "\t<tr><th scope=row>2</th><td>1503960366</td><td>4/13/2016 12:00:00 AM</td><td>2</td><td>384</td><td>407</td></tr>\n",
       "\t<tr><th scope=row>3</th><td>1503960366</td><td>4/15/2016 12:00:00 AM</td><td>1</td><td>412</td><td>442</td></tr>\n",
       "\t<tr><th scope=row>4</th><td>1503960366</td><td>4/16/2016 12:00:00 AM</td><td>2</td><td>340</td><td>367</td></tr>\n",
       "</tbody>\n",
       "</table>\n"
      ],
      "text/latex": [
       "A data.frame: 4 × 5\n",
       "\\begin{tabular}{r|lllll}\n",
       "  & Id & SleepDay & TotalSleepRecords & TotalMinutesAsleep & TotalTimeInBed\\\\\n",
       "  & <dbl> & <chr> & <int> & <int> & <int>\\\\\n",
       "\\hline\n",
       "\t1 & 1503960366 & 4/12/2016 12:00:00 AM & 1 & 327 & 346\\\\\n",
       "\t2 & 1503960366 & 4/13/2016 12:00:00 AM & 2 & 384 & 407\\\\\n",
       "\t3 & 1503960366 & 4/15/2016 12:00:00 AM & 1 & 412 & 442\\\\\n",
       "\t4 & 1503960366 & 4/16/2016 12:00:00 AM & 2 & 340 & 367\\\\\n",
       "\\end{tabular}\n"
      ],
      "text/markdown": [
       "\n",
       "A data.frame: 4 × 5\n",
       "\n",
       "| <!--/--> | Id &lt;dbl&gt; | SleepDay &lt;chr&gt; | TotalSleepRecords &lt;int&gt; | TotalMinutesAsleep &lt;int&gt; | TotalTimeInBed &lt;int&gt; |\n",
       "|---|---|---|---|---|---|\n",
       "| 1 | 1503960366 | 4/12/2016 12:00:00 AM | 1 | 327 | 346 |\n",
       "| 2 | 1503960366 | 4/13/2016 12:00:00 AM | 2 | 384 | 407 |\n",
       "| 3 | 1503960366 | 4/15/2016 12:00:00 AM | 1 | 412 | 442 |\n",
       "| 4 | 1503960366 | 4/16/2016 12:00:00 AM | 2 | 340 | 367 |\n",
       "\n"
      ],
      "text/plain": [
       "  Id         SleepDay              TotalSleepRecords TotalMinutesAsleep\n",
       "1 1503960366 4/12/2016 12:00:00 AM 1                 327               \n",
       "2 1503960366 4/13/2016 12:00:00 AM 2                 384               \n",
       "3 1503960366 4/15/2016 12:00:00 AM 1                 412               \n",
       "4 1503960366 4/16/2016 12:00:00 AM 2                 340               \n",
       "  TotalTimeInBed\n",
       "1 346           \n",
       "2 407           \n",
       "3 442           \n",
       "4 367           "
      ]
     },
     "metadata": {},
     "output_type": "display_data"
    }
   ],
   "source": [
    "head(sleep_day,4)"
   ]
  },
  {
   "cell_type": "code",
   "execution_count": 10,
   "id": "e4beebf8",
   "metadata": {
    "execution": {
     "iopub.execute_input": "2023-09-05T12:25:59.512592Z",
     "iopub.status.busy": "2023-09-05T12:25:59.510919Z",
     "iopub.status.idle": "2023-09-05T12:25:59.537276Z",
     "shell.execute_reply": "2023-09-05T12:25:59.535101Z"
    },
    "papermill": {
     "duration": 0.045057,
     "end_time": "2023-09-05T12:25:59.537502",
     "exception": false,
     "start_time": "2023-09-05T12:25:59.492445",
     "status": "completed"
    },
    "tags": []
   },
   "outputs": [
    {
     "data": {
      "text/html": [
       "<table class=\"dataframe\">\n",
       "<caption>A data.frame: 4 × 8</caption>\n",
       "<thead>\n",
       "\t<tr><th></th><th scope=col>Id</th><th scope=col>Date</th><th scope=col>WeightKg</th><th scope=col>WeightPounds</th><th scope=col>Fat</th><th scope=col>BMI</th><th scope=col>IsManualReport</th><th scope=col>LogId</th></tr>\n",
       "\t<tr><th></th><th scope=col>&lt;dbl&gt;</th><th scope=col>&lt;chr&gt;</th><th scope=col>&lt;dbl&gt;</th><th scope=col>&lt;dbl&gt;</th><th scope=col>&lt;int&gt;</th><th scope=col>&lt;dbl&gt;</th><th scope=col>&lt;chr&gt;</th><th scope=col>&lt;dbl&gt;</th></tr>\n",
       "</thead>\n",
       "<tbody>\n",
       "\t<tr><th scope=row>1</th><td>1503960366</td><td>5/2/2016 11:59:59 PM </td><td> 52.6</td><td>115.9631</td><td>22</td><td>22.65</td><td>True </td><td>1.462234e+12</td></tr>\n",
       "\t<tr><th scope=row>2</th><td>1503960366</td><td>5/3/2016 11:59:59 PM </td><td> 52.6</td><td>115.9631</td><td>NA</td><td>22.65</td><td>True </td><td>1.462320e+12</td></tr>\n",
       "\t<tr><th scope=row>3</th><td>1927972279</td><td>4/13/2016 1:08:52 AM </td><td>133.5</td><td>294.3171</td><td>NA</td><td>47.54</td><td>False</td><td>1.460510e+12</td></tr>\n",
       "\t<tr><th scope=row>4</th><td>2873212765</td><td>4/21/2016 11:59:59 PM</td><td> 56.7</td><td>125.0021</td><td>NA</td><td>21.45</td><td>True </td><td>1.461283e+12</td></tr>\n",
       "</tbody>\n",
       "</table>\n"
      ],
      "text/latex": [
       "A data.frame: 4 × 8\n",
       "\\begin{tabular}{r|llllllll}\n",
       "  & Id & Date & WeightKg & WeightPounds & Fat & BMI & IsManualReport & LogId\\\\\n",
       "  & <dbl> & <chr> & <dbl> & <dbl> & <int> & <dbl> & <chr> & <dbl>\\\\\n",
       "\\hline\n",
       "\t1 & 1503960366 & 5/2/2016 11:59:59 PM  &  52.6 & 115.9631 & 22 & 22.65 & True  & 1.462234e+12\\\\\n",
       "\t2 & 1503960366 & 5/3/2016 11:59:59 PM  &  52.6 & 115.9631 & NA & 22.65 & True  & 1.462320e+12\\\\\n",
       "\t3 & 1927972279 & 4/13/2016 1:08:52 AM  & 133.5 & 294.3171 & NA & 47.54 & False & 1.460510e+12\\\\\n",
       "\t4 & 2873212765 & 4/21/2016 11:59:59 PM &  56.7 & 125.0021 & NA & 21.45 & True  & 1.461283e+12\\\\\n",
       "\\end{tabular}\n"
      ],
      "text/markdown": [
       "\n",
       "A data.frame: 4 × 8\n",
       "\n",
       "| <!--/--> | Id &lt;dbl&gt; | Date &lt;chr&gt; | WeightKg &lt;dbl&gt; | WeightPounds &lt;dbl&gt; | Fat &lt;int&gt; | BMI &lt;dbl&gt; | IsManualReport &lt;chr&gt; | LogId &lt;dbl&gt; |\n",
       "|---|---|---|---|---|---|---|---|---|\n",
       "| 1 | 1503960366 | 5/2/2016 11:59:59 PM  |  52.6 | 115.9631 | 22 | 22.65 | True  | 1.462234e+12 |\n",
       "| 2 | 1503960366 | 5/3/2016 11:59:59 PM  |  52.6 | 115.9631 | NA | 22.65 | True  | 1.462320e+12 |\n",
       "| 3 | 1927972279 | 4/13/2016 1:08:52 AM  | 133.5 | 294.3171 | NA | 47.54 | False | 1.460510e+12 |\n",
       "| 4 | 2873212765 | 4/21/2016 11:59:59 PM |  56.7 | 125.0021 | NA | 21.45 | True  | 1.461283e+12 |\n",
       "\n"
      ],
      "text/plain": [
       "  Id         Date                  WeightKg WeightPounds Fat BMI  \n",
       "1 1503960366 5/2/2016 11:59:59 PM   52.6    115.9631     22  22.65\n",
       "2 1503960366 5/3/2016 11:59:59 PM   52.6    115.9631     NA  22.65\n",
       "3 1927972279 4/13/2016 1:08:52 AM  133.5    294.3171     NA  47.54\n",
       "4 2873212765 4/21/2016 11:59:59 PM  56.7    125.0021     NA  21.45\n",
       "  IsManualReport LogId       \n",
       "1 True           1.462234e+12\n",
       "2 True           1.462320e+12\n",
       "3 False          1.460510e+12\n",
       "4 True           1.461283e+12"
      ]
     },
     "metadata": {},
     "output_type": "display_data"
    }
   ],
   "source": [
    "head(weight_log,4)"
   ]
  },
  {
   "cell_type": "markdown",
   "id": "d30a0463",
   "metadata": {
    "papermill": {
     "duration": 0.015574,
     "end_time": "2023-09-05T12:25:59.567744",
     "exception": false,
     "start_time": "2023-09-05T12:25:59.552170",
     "status": "completed"
    },
    "tags": []
   },
   "source": [
    "*Checking missing values in each data frame using is.na() function.*"
   ]
  },
  {
   "cell_type": "code",
   "execution_count": 11,
   "id": "e328035d",
   "metadata": {
    "execution": {
     "iopub.execute_input": "2023-09-05T12:25:59.603086Z",
     "iopub.status.busy": "2023-09-05T12:25:59.601349Z",
     "iopub.status.idle": "2023-09-05T12:25:59.658413Z",
     "shell.execute_reply": "2023-09-05T12:25:59.656687Z"
    },
    "papermill": {
     "duration": 0.076659,
     "end_time": "2023-09-05T12:25:59.658581",
     "exception": false,
     "start_time": "2023-09-05T12:25:59.581922",
     "status": "completed"
    },
    "tags": []
   },
   "outputs": [
    {
     "data": {
      "text/html": [
       "0"
      ],
      "text/latex": [
       "0"
      ],
      "text/markdown": [
       "0"
      ],
      "text/plain": [
       "[1] 0"
      ]
     },
     "metadata": {},
     "output_type": "display_data"
    },
    {
     "data": {
      "text/html": [
       "0"
      ],
      "text/latex": [
       "0"
      ],
      "text/markdown": [
       "0"
      ],
      "text/plain": [
       "[1] 0"
      ]
     },
     "metadata": {},
     "output_type": "display_data"
    },
    {
     "data": {
      "text/html": [
       "0"
      ],
      "text/latex": [
       "0"
      ],
      "text/markdown": [
       "0"
      ],
      "text/plain": [
       "[1] 0"
      ]
     },
     "metadata": {},
     "output_type": "display_data"
    },
    {
     "data": {
      "text/html": [
       "0"
      ],
      "text/latex": [
       "0"
      ],
      "text/markdown": [
       "0"
      ],
      "text/plain": [
       "[1] 0"
      ]
     },
     "metadata": {},
     "output_type": "display_data"
    },
    {
     "data": {
      "text/html": [
       "0"
      ],
      "text/latex": [
       "0"
      ],
      "text/markdown": [
       "0"
      ],
      "text/plain": [
       "[1] 0"
      ]
     },
     "metadata": {},
     "output_type": "display_data"
    },
    {
     "data": {
      "text/html": [
       "0"
      ],
      "text/latex": [
       "0"
      ],
      "text/markdown": [
       "0"
      ],
      "text/plain": [
       "[1] 0"
      ]
     },
     "metadata": {},
     "output_type": "display_data"
    },
    {
     "data": {
      "text/html": [
       "0"
      ],
      "text/latex": [
       "0"
      ],
      "text/markdown": [
       "0"
      ],
      "text/plain": [
       "[1] 0"
      ]
     },
     "metadata": {},
     "output_type": "display_data"
    }
   ],
   "source": [
    "sum(is.na(daily_activity))\n",
    "sum(is.na(daily_calories))\n",
    "sum(is.na(daily_intensities))\n",
    "sum(is.na(daily_steps))\n",
    "sum(is.na(hourly_calories))\n",
    "sum(is.na(hourly_intensities))\n",
    "sum(is.na(sleep_day))"
   ]
  },
  {
   "cell_type": "code",
   "execution_count": 12,
   "id": "462386bb",
   "metadata": {
    "execution": {
     "iopub.execute_input": "2023-09-05T12:25:59.724218Z",
     "iopub.status.busy": "2023-09-05T12:25:59.695660Z",
     "iopub.status.idle": "2023-09-05T12:25:59.783056Z",
     "shell.execute_reply": "2023-09-05T12:25:59.780690Z"
    },
    "papermill": {
     "duration": 0.107933,
     "end_time": "2023-09-05T12:25:59.783269",
     "exception": false,
     "start_time": "2023-09-05T12:25:59.675336",
     "status": "completed"
    },
    "tags": []
   },
   "outputs": [
    {
     "data": {
      "text/html": [
       "940"
      ],
      "text/latex": [
       "940"
      ],
      "text/markdown": [
       "940"
      ],
      "text/plain": [
       "[1] 940"
      ]
     },
     "metadata": {},
     "output_type": "display_data"
    },
    {
     "data": {
      "text/html": [
       "940"
      ],
      "text/latex": [
       "940"
      ],
      "text/markdown": [
       "940"
      ],
      "text/plain": [
       "[1] 940"
      ]
     },
     "metadata": {},
     "output_type": "display_data"
    },
    {
     "data": {
      "text/html": [
       "940"
      ],
      "text/latex": [
       "940"
      ],
      "text/markdown": [
       "940"
      ],
      "text/plain": [
       "[1] 940"
      ]
     },
     "metadata": {},
     "output_type": "display_data"
    },
    {
     "data": {
      "text/html": [
       "940"
      ],
      "text/latex": [
       "940"
      ],
      "text/markdown": [
       "940"
      ],
      "text/plain": [
       "[1] 940"
      ]
     },
     "metadata": {},
     "output_type": "display_data"
    },
    {
     "data": {
      "text/html": [
       "22099"
      ],
      "text/latex": [
       "22099"
      ],
      "text/markdown": [
       "22099"
      ],
      "text/plain": [
       "[1] 22099"
      ]
     },
     "metadata": {},
     "output_type": "display_data"
    },
    {
     "data": {
      "text/html": [
       "22099"
      ],
      "text/latex": [
       "22099"
      ],
      "text/markdown": [
       "22099"
      ],
      "text/plain": [
       "[1] 22099"
      ]
     },
     "metadata": {},
     "output_type": "display_data"
    },
    {
     "data": {
      "text/html": [
       "413"
      ],
      "text/latex": [
       "413"
      ],
      "text/markdown": [
       "413"
      ],
      "text/plain": [
       "[1] 413"
      ]
     },
     "metadata": {},
     "output_type": "display_data"
    }
   ],
   "source": [
    "#Total number of observations in each data frame.\n",
    "\n",
    "nrow(daily_activity)\n",
    "nrow(daily_calories)\n",
    "nrow(daily_intensities)\n",
    "nrow(daily_steps)\n",
    "nrow(hourly_calories)\n",
    "nrow(hourly_intensities)\n",
    "nrow(sleep_day)"
   ]
  },
  {
   "cell_type": "code",
   "execution_count": 13,
   "id": "e206a7e4",
   "metadata": {
    "execution": {
     "iopub.execute_input": "2023-09-05T12:25:59.823009Z",
     "iopub.status.busy": "2023-09-05T12:25:59.821441Z",
     "iopub.status.idle": "2023-09-05T12:25:59.875187Z",
     "shell.execute_reply": "2023-09-05T12:25:59.873627Z"
    },
    "papermill": {
     "duration": 0.075317,
     "end_time": "2023-09-05T12:25:59.875394",
     "exception": false,
     "start_time": "2023-09-05T12:25:59.800077",
     "status": "completed"
    },
    "tags": []
   },
   "outputs": [
    {
     "data": {
      "text/html": [
       "33"
      ],
      "text/latex": [
       "33"
      ],
      "text/markdown": [
       "33"
      ],
      "text/plain": [
       "[1] 33"
      ]
     },
     "metadata": {},
     "output_type": "display_data"
    },
    {
     "data": {
      "text/html": [
       "33"
      ],
      "text/latex": [
       "33"
      ],
      "text/markdown": [
       "33"
      ],
      "text/plain": [
       "[1] 33"
      ]
     },
     "metadata": {},
     "output_type": "display_data"
    },
    {
     "data": {
      "text/html": [
       "33"
      ],
      "text/latex": [
       "33"
      ],
      "text/markdown": [
       "33"
      ],
      "text/plain": [
       "[1] 33"
      ]
     },
     "metadata": {},
     "output_type": "display_data"
    },
    {
     "data": {
      "text/html": [
       "33"
      ],
      "text/latex": [
       "33"
      ],
      "text/markdown": [
       "33"
      ],
      "text/plain": [
       "[1] 33"
      ]
     },
     "metadata": {},
     "output_type": "display_data"
    },
    {
     "data": {
      "text/html": [
       "24"
      ],
      "text/latex": [
       "24"
      ],
      "text/markdown": [
       "24"
      ],
      "text/plain": [
       "[1] 24"
      ]
     },
     "metadata": {},
     "output_type": "display_data"
    },
    {
     "data": {
      "text/html": [
       "8"
      ],
      "text/latex": [
       "8"
      ],
      "text/markdown": [
       "8"
      ],
      "text/plain": [
       "[1] 8"
      ]
     },
     "metadata": {},
     "output_type": "display_data"
    }
   ],
   "source": [
    "#Unique participants in each data frame using ID\n",
    "\n",
    "n_distinct(daily_activity$Id)\n",
    "n_distinct(daily_calories$Id)\n",
    "n_distinct(daily_intensities$Id)\n",
    "n_distinct(daily_steps$Id)\n",
    "n_distinct(sleep_day$Id)\n",
    "n_distinct(weight_log$Id)"
   ]
  },
  {
   "cell_type": "markdown",
   "id": "00c70335",
   "metadata": {
    "papermill": {
     "duration": 0.017403,
     "end_time": "2023-09-05T12:25:59.910591",
     "exception": false,
     "start_time": "2023-09-05T12:25:59.893188",
     "status": "completed"
    },
    "tags": []
   },
   "source": [
    "Following information is extracted from above data:\n",
    "\n",
    "We have 33 unique participants in daily_activity, daily_calories, daily_intensities, and daily_steps data frame. \n",
    "Sleep_day data frame has 24 unique participants and weight_log has 8, which is not enough for the analysis. \n"
   ]
  },
  {
   "cell_type": "code",
   "execution_count": 14,
   "id": "f26bb086",
   "metadata": {
    "execution": {
     "iopub.execute_input": "2023-09-05T12:25:59.952839Z",
     "iopub.status.busy": "2023-09-05T12:25:59.951144Z",
     "iopub.status.idle": "2023-09-05T12:25:59.997811Z",
     "shell.execute_reply": "2023-09-05T12:25:59.996012Z"
    },
    "papermill": {
     "duration": 0.069306,
     "end_time": "2023-09-05T12:25:59.998026",
     "exception": false,
     "start_time": "2023-09-05T12:25:59.928720",
     "status": "completed"
    },
    "tags": []
   },
   "outputs": [
    {
     "data": {
      "text/html": [
       "'character'"
      ],
      "text/latex": [
       "'character'"
      ],
      "text/markdown": [
       "'character'"
      ],
      "text/plain": [
       "[1] \"character\""
      ]
     },
     "metadata": {},
     "output_type": "display_data"
    },
    {
     "data": {
      "text/html": [
       "'character'"
      ],
      "text/latex": [
       "'character'"
      ],
      "text/markdown": [
       "'character'"
      ],
      "text/plain": [
       "[1] \"character\""
      ]
     },
     "metadata": {},
     "output_type": "display_data"
    },
    {
     "data": {
      "text/html": [
       "'character'"
      ],
      "text/latex": [
       "'character'"
      ],
      "text/markdown": [
       "'character'"
      ],
      "text/plain": [
       "[1] \"character\""
      ]
     },
     "metadata": {},
     "output_type": "display_data"
    },
    {
     "data": {
      "text/html": [
       "'character'"
      ],
      "text/latex": [
       "'character'"
      ],
      "text/markdown": [
       "'character'"
      ],
      "text/plain": [
       "[1] \"character\""
      ]
     },
     "metadata": {},
     "output_type": "display_data"
    },
    {
     "data": {
      "text/html": [
       "'character'"
      ],
      "text/latex": [
       "'character'"
      ],
      "text/markdown": [
       "'character'"
      ],
      "text/plain": [
       "[1] \"character\""
      ]
     },
     "metadata": {},
     "output_type": "display_data"
    }
   ],
   "source": [
    "#Checking the class of dataframe\n",
    "\n",
    "class(daily_activity$ActivityDate)\n",
    "class(daily_calories$ActivityDay)\n",
    "class(daily_intensities$ActivityDay)\n",
    "class(daily_steps$ActivityDay)\n",
    "class(sleep_day$SleepDay)\n"
   ]
  },
  {
   "cell_type": "markdown",
   "id": "c503de8f",
   "metadata": {
    "papermill": {
     "duration": 0.018517,
     "end_time": "2023-09-05T12:26:00.036268",
     "exception": false,
     "start_time": "2023-09-05T12:26:00.017751",
     "status": "completed"
    },
    "tags": []
   },
   "source": [
    "class() function reveals that date formats in the respective dataframe are in character form, which can be tallied from head() function too. Let’s change them. "
   ]
  },
  {
   "cell_type": "code",
   "execution_count": 15,
   "id": "92761970",
   "metadata": {
    "execution": {
     "iopub.execute_input": "2023-09-05T12:26:00.083108Z",
     "iopub.status.busy": "2023-09-05T12:26:00.079226Z",
     "iopub.status.idle": "2023-09-05T12:26:00.153580Z",
     "shell.execute_reply": "2023-09-05T12:26:00.151932Z"
    },
    "papermill": {
     "duration": 0.098158,
     "end_time": "2023-09-05T12:26:00.153740",
     "exception": false,
     "start_time": "2023-09-05T12:26:00.055582",
     "status": "completed"
    },
    "tags": []
   },
   "outputs": [
    {
     "data": {
      "text/html": [
       "<table class=\"dataframe\">\n",
       "<caption>A data.frame: 4 × 15</caption>\n",
       "<thead>\n",
       "\t<tr><th></th><th scope=col>Id</th><th scope=col>ActivityDate</th><th scope=col>TotalSteps</th><th scope=col>TotalDistance</th><th scope=col>TrackerDistance</th><th scope=col>LoggedActivitiesDistance</th><th scope=col>VeryActiveDistance</th><th scope=col>ModeratelyActiveDistance</th><th scope=col>LightActiveDistance</th><th scope=col>SedentaryActiveDistance</th><th scope=col>VeryActiveMinutes</th><th scope=col>FairlyActiveMinutes</th><th scope=col>LightlyActiveMinutes</th><th scope=col>SedentaryMinutes</th><th scope=col>Calories</th></tr>\n",
       "\t<tr><th></th><th scope=col>&lt;dbl&gt;</th><th scope=col>&lt;date&gt;</th><th scope=col>&lt;int&gt;</th><th scope=col>&lt;dbl&gt;</th><th scope=col>&lt;dbl&gt;</th><th scope=col>&lt;dbl&gt;</th><th scope=col>&lt;dbl&gt;</th><th scope=col>&lt;dbl&gt;</th><th scope=col>&lt;dbl&gt;</th><th scope=col>&lt;dbl&gt;</th><th scope=col>&lt;int&gt;</th><th scope=col>&lt;int&gt;</th><th scope=col>&lt;int&gt;</th><th scope=col>&lt;int&gt;</th><th scope=col>&lt;int&gt;</th></tr>\n",
       "</thead>\n",
       "<tbody>\n",
       "\t<tr><th scope=row>1</th><td>1503960366</td><td>2020-04-12</td><td>13162</td><td>8.50</td><td>8.50</td><td>0</td><td>1.88</td><td>0.55</td><td>6.06</td><td>0</td><td>25</td><td>13</td><td>328</td><td> 728</td><td>1985</td></tr>\n",
       "\t<tr><th scope=row>2</th><td>1503960366</td><td>2020-04-13</td><td>10735</td><td>6.97</td><td>6.97</td><td>0</td><td>1.57</td><td>0.69</td><td>4.71</td><td>0</td><td>21</td><td>19</td><td>217</td><td> 776</td><td>1797</td></tr>\n",
       "\t<tr><th scope=row>3</th><td>1503960366</td><td>2020-04-14</td><td>10460</td><td>6.74</td><td>6.74</td><td>0</td><td>2.44</td><td>0.40</td><td>3.91</td><td>0</td><td>30</td><td>11</td><td>181</td><td>1218</td><td>1776</td></tr>\n",
       "\t<tr><th scope=row>4</th><td>1503960366</td><td>2020-04-15</td><td> 9762</td><td>6.28</td><td>6.28</td><td>0</td><td>2.14</td><td>1.26</td><td>2.83</td><td>0</td><td>29</td><td>34</td><td>209</td><td> 726</td><td>1745</td></tr>\n",
       "</tbody>\n",
       "</table>\n"
      ],
      "text/latex": [
       "A data.frame: 4 × 15\n",
       "\\begin{tabular}{r|lllllllllllllll}\n",
       "  & Id & ActivityDate & TotalSteps & TotalDistance & TrackerDistance & LoggedActivitiesDistance & VeryActiveDistance & ModeratelyActiveDistance & LightActiveDistance & SedentaryActiveDistance & VeryActiveMinutes & FairlyActiveMinutes & LightlyActiveMinutes & SedentaryMinutes & Calories\\\\\n",
       "  & <dbl> & <date> & <int> & <dbl> & <dbl> & <dbl> & <dbl> & <dbl> & <dbl> & <dbl> & <int> & <int> & <int> & <int> & <int>\\\\\n",
       "\\hline\n",
       "\t1 & 1503960366 & 2020-04-12 & 13162 & 8.50 & 8.50 & 0 & 1.88 & 0.55 & 6.06 & 0 & 25 & 13 & 328 &  728 & 1985\\\\\n",
       "\t2 & 1503960366 & 2020-04-13 & 10735 & 6.97 & 6.97 & 0 & 1.57 & 0.69 & 4.71 & 0 & 21 & 19 & 217 &  776 & 1797\\\\\n",
       "\t3 & 1503960366 & 2020-04-14 & 10460 & 6.74 & 6.74 & 0 & 2.44 & 0.40 & 3.91 & 0 & 30 & 11 & 181 & 1218 & 1776\\\\\n",
       "\t4 & 1503960366 & 2020-04-15 &  9762 & 6.28 & 6.28 & 0 & 2.14 & 1.26 & 2.83 & 0 & 29 & 34 & 209 &  726 & 1745\\\\\n",
       "\\end{tabular}\n"
      ],
      "text/markdown": [
       "\n",
       "A data.frame: 4 × 15\n",
       "\n",
       "| <!--/--> | Id &lt;dbl&gt; | ActivityDate &lt;date&gt; | TotalSteps &lt;int&gt; | TotalDistance &lt;dbl&gt; | TrackerDistance &lt;dbl&gt; | LoggedActivitiesDistance &lt;dbl&gt; | VeryActiveDistance &lt;dbl&gt; | ModeratelyActiveDistance &lt;dbl&gt; | LightActiveDistance &lt;dbl&gt; | SedentaryActiveDistance &lt;dbl&gt; | VeryActiveMinutes &lt;int&gt; | FairlyActiveMinutes &lt;int&gt; | LightlyActiveMinutes &lt;int&gt; | SedentaryMinutes &lt;int&gt; | Calories &lt;int&gt; |\n",
       "|---|---|---|---|---|---|---|---|---|---|---|---|---|---|---|---|\n",
       "| 1 | 1503960366 | 2020-04-12 | 13162 | 8.50 | 8.50 | 0 | 1.88 | 0.55 | 6.06 | 0 | 25 | 13 | 328 |  728 | 1985 |\n",
       "| 2 | 1503960366 | 2020-04-13 | 10735 | 6.97 | 6.97 | 0 | 1.57 | 0.69 | 4.71 | 0 | 21 | 19 | 217 |  776 | 1797 |\n",
       "| 3 | 1503960366 | 2020-04-14 | 10460 | 6.74 | 6.74 | 0 | 2.44 | 0.40 | 3.91 | 0 | 30 | 11 | 181 | 1218 | 1776 |\n",
       "| 4 | 1503960366 | 2020-04-15 |  9762 | 6.28 | 6.28 | 0 | 2.14 | 1.26 | 2.83 | 0 | 29 | 34 | 209 |  726 | 1745 |\n",
       "\n"
      ],
      "text/plain": [
       "  Id         ActivityDate TotalSteps TotalDistance TrackerDistance\n",
       "1 1503960366 2020-04-12   13162      8.50          8.50           \n",
       "2 1503960366 2020-04-13   10735      6.97          6.97           \n",
       "3 1503960366 2020-04-14   10460      6.74          6.74           \n",
       "4 1503960366 2020-04-15    9762      6.28          6.28           \n",
       "  LoggedActivitiesDistance VeryActiveDistance ModeratelyActiveDistance\n",
       "1 0                        1.88               0.55                    \n",
       "2 0                        1.57               0.69                    \n",
       "3 0                        2.44               0.40                    \n",
       "4 0                        2.14               1.26                    \n",
       "  LightActiveDistance SedentaryActiveDistance VeryActiveMinutes\n",
       "1 6.06                0                       25               \n",
       "2 4.71                0                       21               \n",
       "3 3.91                0                       30               \n",
       "4 2.83                0                       29               \n",
       "  FairlyActiveMinutes LightlyActiveMinutes SedentaryMinutes Calories\n",
       "1 13                  328                   728             1985    \n",
       "2 19                  217                   776             1797    \n",
       "3 11                  181                  1218             1776    \n",
       "4 34                  209                   726             1745    "
      ]
     },
     "metadata": {},
     "output_type": "display_data"
    },
    {
     "data": {
      "text/html": [
       "<table class=\"dataframe\">\n",
       "<caption>A data.frame: 4 × 3</caption>\n",
       "<thead>\n",
       "\t<tr><th></th><th scope=col>Id</th><th scope=col>ActivityDay</th><th scope=col>Calories</th></tr>\n",
       "\t<tr><th></th><th scope=col>&lt;dbl&gt;</th><th scope=col>&lt;dttm&gt;</th><th scope=col>&lt;int&gt;</th></tr>\n",
       "</thead>\n",
       "<tbody>\n",
       "\t<tr><th scope=row>1</th><td>1503960366</td><td>2016-04-12</td><td>1985</td></tr>\n",
       "\t<tr><th scope=row>2</th><td>1503960366</td><td>2016-04-13</td><td>1797</td></tr>\n",
       "\t<tr><th scope=row>3</th><td>1503960366</td><td>2016-04-14</td><td>1776</td></tr>\n",
       "\t<tr><th scope=row>4</th><td>1503960366</td><td>2016-04-15</td><td>1745</td></tr>\n",
       "</tbody>\n",
       "</table>\n"
      ],
      "text/latex": [
       "A data.frame: 4 × 3\n",
       "\\begin{tabular}{r|lll}\n",
       "  & Id & ActivityDay & Calories\\\\\n",
       "  & <dbl> & <dttm> & <int>\\\\\n",
       "\\hline\n",
       "\t1 & 1503960366 & 2016-04-12 & 1985\\\\\n",
       "\t2 & 1503960366 & 2016-04-13 & 1797\\\\\n",
       "\t3 & 1503960366 & 2016-04-14 & 1776\\\\\n",
       "\t4 & 1503960366 & 2016-04-15 & 1745\\\\\n",
       "\\end{tabular}\n"
      ],
      "text/markdown": [
       "\n",
       "A data.frame: 4 × 3\n",
       "\n",
       "| <!--/--> | Id &lt;dbl&gt; | ActivityDay &lt;dttm&gt; | Calories &lt;int&gt; |\n",
       "|---|---|---|---|\n",
       "| 1 | 1503960366 | 2016-04-12 | 1985 |\n",
       "| 2 | 1503960366 | 2016-04-13 | 1797 |\n",
       "| 3 | 1503960366 | 2016-04-14 | 1776 |\n",
       "| 4 | 1503960366 | 2016-04-15 | 1745 |\n",
       "\n"
      ],
      "text/plain": [
       "  Id         ActivityDay Calories\n",
       "1 1503960366 2016-04-12  1985    \n",
       "2 1503960366 2016-04-13  1797    \n",
       "3 1503960366 2016-04-14  1776    \n",
       "4 1503960366 2016-04-15  1745    "
      ]
     },
     "metadata": {},
     "output_type": "display_data"
    },
    {
     "data": {
      "text/html": [
       "<table class=\"dataframe\">\n",
       "<caption>A data.frame: 4 × 5</caption>\n",
       "<thead>\n",
       "\t<tr><th></th><th scope=col>Id</th><th scope=col>SleepDay</th><th scope=col>TotalSleepRecords</th><th scope=col>TotalMinutesAsleep</th><th scope=col>TotalTimeInBed</th></tr>\n",
       "\t<tr><th></th><th scope=col>&lt;dbl&gt;</th><th scope=col>&lt;date&gt;</th><th scope=col>&lt;int&gt;</th><th scope=col>&lt;int&gt;</th><th scope=col>&lt;int&gt;</th></tr>\n",
       "</thead>\n",
       "<tbody>\n",
       "\t<tr><th scope=row>1</th><td>1503960366</td><td>2020-04-12</td><td>1</td><td>327</td><td>346</td></tr>\n",
       "\t<tr><th scope=row>2</th><td>1503960366</td><td>2020-04-13</td><td>2</td><td>384</td><td>407</td></tr>\n",
       "\t<tr><th scope=row>3</th><td>1503960366</td><td>2020-04-15</td><td>1</td><td>412</td><td>442</td></tr>\n",
       "\t<tr><th scope=row>4</th><td>1503960366</td><td>2020-04-16</td><td>2</td><td>340</td><td>367</td></tr>\n",
       "</tbody>\n",
       "</table>\n"
      ],
      "text/latex": [
       "A data.frame: 4 × 5\n",
       "\\begin{tabular}{r|lllll}\n",
       "  & Id & SleepDay & TotalSleepRecords & TotalMinutesAsleep & TotalTimeInBed\\\\\n",
       "  & <dbl> & <date> & <int> & <int> & <int>\\\\\n",
       "\\hline\n",
       "\t1 & 1503960366 & 2020-04-12 & 1 & 327 & 346\\\\\n",
       "\t2 & 1503960366 & 2020-04-13 & 2 & 384 & 407\\\\\n",
       "\t3 & 1503960366 & 2020-04-15 & 1 & 412 & 442\\\\\n",
       "\t4 & 1503960366 & 2020-04-16 & 2 & 340 & 367\\\\\n",
       "\\end{tabular}\n"
      ],
      "text/markdown": [
       "\n",
       "A data.frame: 4 × 5\n",
       "\n",
       "| <!--/--> | Id &lt;dbl&gt; | SleepDay &lt;date&gt; | TotalSleepRecords &lt;int&gt; | TotalMinutesAsleep &lt;int&gt; | TotalTimeInBed &lt;int&gt; |\n",
       "|---|---|---|---|---|---|\n",
       "| 1 | 1503960366 | 2020-04-12 | 1 | 327 | 346 |\n",
       "| 2 | 1503960366 | 2020-04-13 | 2 | 384 | 407 |\n",
       "| 3 | 1503960366 | 2020-04-15 | 1 | 412 | 442 |\n",
       "| 4 | 1503960366 | 2020-04-16 | 2 | 340 | 367 |\n",
       "\n"
      ],
      "text/plain": [
       "  Id         SleepDay   TotalSleepRecords TotalMinutesAsleep TotalTimeInBed\n",
       "1 1503960366 2020-04-12 1                 327                346           \n",
       "2 1503960366 2020-04-13 2                 384                407           \n",
       "3 1503960366 2020-04-15 1                 412                442           \n",
       "4 1503960366 2020-04-16 2                 340                367           "
      ]
     },
     "metadata": {},
     "output_type": "display_data"
    }
   ],
   "source": [
    "#daily_activity\n",
    "daily_activity$ActivityDate <- as.Date(daily_activity$ActivityDate, \n",
    "                         format= \"%m/%d/%y\")\n",
    "\n",
    "#calories\n",
    "daily_calories$ActivityDay <- as.POSIXct(daily_calories$ActivityDay,\n",
    "                                  format= \"%m/%d/%Y\")\n",
    "#sleep\n",
    "sleep_day$SleepDay <- as.Date(sleep_day$SleepDay,\n",
    "                            format= \"%m/ %d/ %y\")\n",
    "\n",
    "head(daily_activity,4)\n",
    "head(daily_calories,4)\n",
    "head(sleep_day,4)\n"
   ]
  },
  {
   "cell_type": "code",
   "execution_count": 16,
   "id": "3e4739e3",
   "metadata": {
    "execution": {
     "iopub.execute_input": "2023-09-05T12:26:00.198409Z",
     "iopub.status.busy": "2023-09-05T12:26:00.196645Z",
     "iopub.status.idle": "2023-09-05T12:26:00.286576Z",
     "shell.execute_reply": "2023-09-05T12:26:00.284135Z"
    },
    "papermill": {
     "duration": 0.114055,
     "end_time": "2023-09-05T12:26:00.286767",
     "exception": false,
     "start_time": "2023-09-05T12:26:00.172712",
     "status": "completed"
    },
    "tags": []
   },
   "outputs": [
    {
     "data": {
      "text/html": [
       "<table class=\"dataframe\">\n",
       "<caption>A data.frame: 413 × 5</caption>\n",
       "<thead>\n",
       "\t<tr><th scope=col>Id</th><th scope=col>SleepDay</th><th scope=col>TotalSleepRecords</th><th scope=col>TotalMinutesAsleep</th><th scope=col>TotalTimeInBed</th></tr>\n",
       "\t<tr><th scope=col>&lt;dbl&gt;</th><th scope=col>&lt;date&gt;</th><th scope=col>&lt;int&gt;</th><th scope=col>&lt;int&gt;</th><th scope=col>&lt;int&gt;</th></tr>\n",
       "</thead>\n",
       "<tbody>\n",
       "\t<tr><td>1503960366</td><td>2020-04-12</td><td>1</td><td>327</td><td>346</td></tr>\n",
       "\t<tr><td>1503960366</td><td>2020-04-13</td><td>2</td><td>384</td><td>407</td></tr>\n",
       "\t<tr><td>1503960366</td><td>2020-04-15</td><td>1</td><td>412</td><td>442</td></tr>\n",
       "\t<tr><td>1503960366</td><td>2020-04-16</td><td>2</td><td>340</td><td>367</td></tr>\n",
       "\t<tr><td>1503960366</td><td>2020-04-17</td><td>1</td><td>700</td><td>712</td></tr>\n",
       "\t<tr><td>1503960366</td><td>2020-04-19</td><td>1</td><td>304</td><td>320</td></tr>\n",
       "\t<tr><td>1503960366</td><td>2020-04-20</td><td>1</td><td>360</td><td>377</td></tr>\n",
       "\t<tr><td>1503960366</td><td>2020-04-21</td><td>1</td><td>325</td><td>364</td></tr>\n",
       "\t<tr><td>1503960366</td><td>2020-04-23</td><td>1</td><td>361</td><td>384</td></tr>\n",
       "\t<tr><td>1503960366</td><td>2020-04-24</td><td>1</td><td>430</td><td>449</td></tr>\n",
       "\t<tr><td>1503960366</td><td>2020-04-25</td><td>1</td><td>277</td><td>323</td></tr>\n",
       "\t<tr><td>1503960366</td><td>2020-04-26</td><td>1</td><td>245</td><td>274</td></tr>\n",
       "\t<tr><td>1503960366</td><td>2020-04-28</td><td>1</td><td>366</td><td>393</td></tr>\n",
       "\t<tr><td>1503960366</td><td>2020-04-29</td><td>1</td><td>341</td><td>354</td></tr>\n",
       "\t<tr><td>1503960366</td><td>2020-04-30</td><td>1</td><td>404</td><td>425</td></tr>\n",
       "\t<tr><td>1503960366</td><td>2020-05-01</td><td>1</td><td>369</td><td>396</td></tr>\n",
       "\t<tr><td>1503960366</td><td>2020-05-02</td><td>1</td><td>277</td><td>309</td></tr>\n",
       "\t<tr><td>1503960366</td><td>2020-05-03</td><td>1</td><td>273</td><td>296</td></tr>\n",
       "\t<tr><td>1503960366</td><td>2020-05-05</td><td>1</td><td>247</td><td>264</td></tr>\n",
       "\t<tr><td>1503960366</td><td>2020-05-06</td><td>1</td><td>334</td><td>367</td></tr>\n",
       "\t<tr><td>1503960366</td><td>2020-05-07</td><td>1</td><td>331</td><td>349</td></tr>\n",
       "\t<tr><td>1503960366</td><td>2020-05-08</td><td>1</td><td>594</td><td>611</td></tr>\n",
       "\t<tr><td>1503960366</td><td>2020-05-09</td><td>1</td><td>338</td><td>342</td></tr>\n",
       "\t<tr><td>1503960366</td><td>2020-05-10</td><td>1</td><td>383</td><td>403</td></tr>\n",
       "\t<tr><td>1503960366</td><td>2020-05-11</td><td>1</td><td>285</td><td>306</td></tr>\n",
       "\t<tr><td>1644430081</td><td>2020-04-29</td><td>1</td><td>119</td><td>127</td></tr>\n",
       "\t<tr><td>1644430081</td><td>2020-04-30</td><td>1</td><td>124</td><td>142</td></tr>\n",
       "\t<tr><td>1644430081</td><td>2020-05-02</td><td>1</td><td>796</td><td>961</td></tr>\n",
       "\t<tr><td>1644430081</td><td>2020-05-08</td><td>1</td><td>137</td><td>154</td></tr>\n",
       "\t<tr><td>1844505072</td><td>2020-04-15</td><td>1</td><td>644</td><td>961</td></tr>\n",
       "\t<tr><td>⋮</td><td>⋮</td><td>⋮</td><td>⋮</td><td>⋮</td></tr>\n",
       "\t<tr><td>8378563200</td><td>2020-04-28</td><td>1</td><td>506</td><td>556</td></tr>\n",
       "\t<tr><td>8378563200</td><td>2020-04-29</td><td>1</td><td>527</td><td>562</td></tr>\n",
       "\t<tr><td>8378563200</td><td>2020-04-30</td><td>1</td><td>468</td><td>555</td></tr>\n",
       "\t<tr><td>8378563200</td><td>2020-05-01</td><td>1</td><td>475</td><td>539</td></tr>\n",
       "\t<tr><td>8378563200</td><td>2020-05-02</td><td>1</td><td>351</td><td>385</td></tr>\n",
       "\t<tr><td>8378563200</td><td>2020-05-03</td><td>1</td><td>405</td><td>429</td></tr>\n",
       "\t<tr><td>8378563200</td><td>2020-05-04</td><td>1</td><td>441</td><td>477</td></tr>\n",
       "\t<tr><td>8378563200</td><td>2020-05-05</td><td>1</td><td>381</td><td>417</td></tr>\n",
       "\t<tr><td>8378563200</td><td>2020-05-06</td><td>1</td><td>323</td><td>355</td></tr>\n",
       "\t<tr><td>8378563200</td><td>2020-05-07</td><td>2</td><td>459</td><td>513</td></tr>\n",
       "\t<tr><td>8378563200</td><td>2020-05-08</td><td>1</td><td>545</td><td>606</td></tr>\n",
       "\t<tr><td>8378563200</td><td>2020-05-09</td><td>1</td><td>359</td><td>399</td></tr>\n",
       "\t<tr><td>8378563200</td><td>2020-05-10</td><td>1</td><td>342</td><td>391</td></tr>\n",
       "\t<tr><td>8378563200</td><td>2020-05-11</td><td>1</td><td>368</td><td>387</td></tr>\n",
       "\t<tr><td>8378563200</td><td>2020-05-12</td><td>1</td><td>496</td><td>546</td></tr>\n",
       "\t<tr><td>8792009665</td><td>2020-04-12</td><td>1</td><td>458</td><td>493</td></tr>\n",
       "\t<tr><td>8792009665</td><td>2020-04-13</td><td>1</td><td>531</td><td>552</td></tr>\n",
       "\t<tr><td>8792009665</td><td>2020-04-14</td><td>1</td><td>486</td><td>503</td></tr>\n",
       "\t<tr><td>8792009665</td><td>2020-04-15</td><td>1</td><td>363</td><td>377</td></tr>\n",
       "\t<tr><td>8792009665</td><td>2020-04-20</td><td>1</td><td>528</td><td>547</td></tr>\n",
       "\t<tr><td>8792009665</td><td>2020-04-22</td><td>1</td><td>391</td><td>407</td></tr>\n",
       "\t<tr><td>8792009665</td><td>2020-04-23</td><td>1</td><td>339</td><td>360</td></tr>\n",
       "\t<tr><td>8792009665</td><td>2020-04-27</td><td>1</td><td>423</td><td>428</td></tr>\n",
       "\t<tr><td>8792009665</td><td>2020-04-28</td><td>1</td><td>402</td><td>416</td></tr>\n",
       "\t<tr><td>8792009665</td><td>2020-04-29</td><td>1</td><td>398</td><td>406</td></tr>\n",
       "\t<tr><td>8792009665</td><td>2020-04-30</td><td>1</td><td>343</td><td>360</td></tr>\n",
       "\t<tr><td>8792009665</td><td>2020-05-01</td><td>1</td><td>503</td><td>527</td></tr>\n",
       "\t<tr><td>8792009665</td><td>2020-05-02</td><td>1</td><td>415</td><td>423</td></tr>\n",
       "\t<tr><td>8792009665</td><td>2020-05-03</td><td>1</td><td>516</td><td>545</td></tr>\n",
       "\t<tr><td>8792009665</td><td>2020-05-04</td><td>1</td><td>439</td><td>463</td></tr>\n",
       "</tbody>\n",
       "</table>\n"
      ],
      "text/latex": [
       "A data.frame: 413 × 5\n",
       "\\begin{tabular}{lllll}\n",
       " Id & SleepDay & TotalSleepRecords & TotalMinutesAsleep & TotalTimeInBed\\\\\n",
       " <dbl> & <date> & <int> & <int> & <int>\\\\\n",
       "\\hline\n",
       "\t 1503960366 & 2020-04-12 & 1 & 327 & 346\\\\\n",
       "\t 1503960366 & 2020-04-13 & 2 & 384 & 407\\\\\n",
       "\t 1503960366 & 2020-04-15 & 1 & 412 & 442\\\\\n",
       "\t 1503960366 & 2020-04-16 & 2 & 340 & 367\\\\\n",
       "\t 1503960366 & 2020-04-17 & 1 & 700 & 712\\\\\n",
       "\t 1503960366 & 2020-04-19 & 1 & 304 & 320\\\\\n",
       "\t 1503960366 & 2020-04-20 & 1 & 360 & 377\\\\\n",
       "\t 1503960366 & 2020-04-21 & 1 & 325 & 364\\\\\n",
       "\t 1503960366 & 2020-04-23 & 1 & 361 & 384\\\\\n",
       "\t 1503960366 & 2020-04-24 & 1 & 430 & 449\\\\\n",
       "\t 1503960366 & 2020-04-25 & 1 & 277 & 323\\\\\n",
       "\t 1503960366 & 2020-04-26 & 1 & 245 & 274\\\\\n",
       "\t 1503960366 & 2020-04-28 & 1 & 366 & 393\\\\\n",
       "\t 1503960366 & 2020-04-29 & 1 & 341 & 354\\\\\n",
       "\t 1503960366 & 2020-04-30 & 1 & 404 & 425\\\\\n",
       "\t 1503960366 & 2020-05-01 & 1 & 369 & 396\\\\\n",
       "\t 1503960366 & 2020-05-02 & 1 & 277 & 309\\\\\n",
       "\t 1503960366 & 2020-05-03 & 1 & 273 & 296\\\\\n",
       "\t 1503960366 & 2020-05-05 & 1 & 247 & 264\\\\\n",
       "\t 1503960366 & 2020-05-06 & 1 & 334 & 367\\\\\n",
       "\t 1503960366 & 2020-05-07 & 1 & 331 & 349\\\\\n",
       "\t 1503960366 & 2020-05-08 & 1 & 594 & 611\\\\\n",
       "\t 1503960366 & 2020-05-09 & 1 & 338 & 342\\\\\n",
       "\t 1503960366 & 2020-05-10 & 1 & 383 & 403\\\\\n",
       "\t 1503960366 & 2020-05-11 & 1 & 285 & 306\\\\\n",
       "\t 1644430081 & 2020-04-29 & 1 & 119 & 127\\\\\n",
       "\t 1644430081 & 2020-04-30 & 1 & 124 & 142\\\\\n",
       "\t 1644430081 & 2020-05-02 & 1 & 796 & 961\\\\\n",
       "\t 1644430081 & 2020-05-08 & 1 & 137 & 154\\\\\n",
       "\t 1844505072 & 2020-04-15 & 1 & 644 & 961\\\\\n",
       "\t ⋮ & ⋮ & ⋮ & ⋮ & ⋮\\\\\n",
       "\t 8378563200 & 2020-04-28 & 1 & 506 & 556\\\\\n",
       "\t 8378563200 & 2020-04-29 & 1 & 527 & 562\\\\\n",
       "\t 8378563200 & 2020-04-30 & 1 & 468 & 555\\\\\n",
       "\t 8378563200 & 2020-05-01 & 1 & 475 & 539\\\\\n",
       "\t 8378563200 & 2020-05-02 & 1 & 351 & 385\\\\\n",
       "\t 8378563200 & 2020-05-03 & 1 & 405 & 429\\\\\n",
       "\t 8378563200 & 2020-05-04 & 1 & 441 & 477\\\\\n",
       "\t 8378563200 & 2020-05-05 & 1 & 381 & 417\\\\\n",
       "\t 8378563200 & 2020-05-06 & 1 & 323 & 355\\\\\n",
       "\t 8378563200 & 2020-05-07 & 2 & 459 & 513\\\\\n",
       "\t 8378563200 & 2020-05-08 & 1 & 545 & 606\\\\\n",
       "\t 8378563200 & 2020-05-09 & 1 & 359 & 399\\\\\n",
       "\t 8378563200 & 2020-05-10 & 1 & 342 & 391\\\\\n",
       "\t 8378563200 & 2020-05-11 & 1 & 368 & 387\\\\\n",
       "\t 8378563200 & 2020-05-12 & 1 & 496 & 546\\\\\n",
       "\t 8792009665 & 2020-04-12 & 1 & 458 & 493\\\\\n",
       "\t 8792009665 & 2020-04-13 & 1 & 531 & 552\\\\\n",
       "\t 8792009665 & 2020-04-14 & 1 & 486 & 503\\\\\n",
       "\t 8792009665 & 2020-04-15 & 1 & 363 & 377\\\\\n",
       "\t 8792009665 & 2020-04-20 & 1 & 528 & 547\\\\\n",
       "\t 8792009665 & 2020-04-22 & 1 & 391 & 407\\\\\n",
       "\t 8792009665 & 2020-04-23 & 1 & 339 & 360\\\\\n",
       "\t 8792009665 & 2020-04-27 & 1 & 423 & 428\\\\\n",
       "\t 8792009665 & 2020-04-28 & 1 & 402 & 416\\\\\n",
       "\t 8792009665 & 2020-04-29 & 1 & 398 & 406\\\\\n",
       "\t 8792009665 & 2020-04-30 & 1 & 343 & 360\\\\\n",
       "\t 8792009665 & 2020-05-01 & 1 & 503 & 527\\\\\n",
       "\t 8792009665 & 2020-05-02 & 1 & 415 & 423\\\\\n",
       "\t 8792009665 & 2020-05-03 & 1 & 516 & 545\\\\\n",
       "\t 8792009665 & 2020-05-04 & 1 & 439 & 463\\\\\n",
       "\\end{tabular}\n"
      ],
      "text/markdown": [
       "\n",
       "A data.frame: 413 × 5\n",
       "\n",
       "| Id &lt;dbl&gt; | SleepDay &lt;date&gt; | TotalSleepRecords &lt;int&gt; | TotalMinutesAsleep &lt;int&gt; | TotalTimeInBed &lt;int&gt; |\n",
       "|---|---|---|---|---|\n",
       "| 1503960366 | 2020-04-12 | 1 | 327 | 346 |\n",
       "| 1503960366 | 2020-04-13 | 2 | 384 | 407 |\n",
       "| 1503960366 | 2020-04-15 | 1 | 412 | 442 |\n",
       "| 1503960366 | 2020-04-16 | 2 | 340 | 367 |\n",
       "| 1503960366 | 2020-04-17 | 1 | 700 | 712 |\n",
       "| 1503960366 | 2020-04-19 | 1 | 304 | 320 |\n",
       "| 1503960366 | 2020-04-20 | 1 | 360 | 377 |\n",
       "| 1503960366 | 2020-04-21 | 1 | 325 | 364 |\n",
       "| 1503960366 | 2020-04-23 | 1 | 361 | 384 |\n",
       "| 1503960366 | 2020-04-24 | 1 | 430 | 449 |\n",
       "| 1503960366 | 2020-04-25 | 1 | 277 | 323 |\n",
       "| 1503960366 | 2020-04-26 | 1 | 245 | 274 |\n",
       "| 1503960366 | 2020-04-28 | 1 | 366 | 393 |\n",
       "| 1503960366 | 2020-04-29 | 1 | 341 | 354 |\n",
       "| 1503960366 | 2020-04-30 | 1 | 404 | 425 |\n",
       "| 1503960366 | 2020-05-01 | 1 | 369 | 396 |\n",
       "| 1503960366 | 2020-05-02 | 1 | 277 | 309 |\n",
       "| 1503960366 | 2020-05-03 | 1 | 273 | 296 |\n",
       "| 1503960366 | 2020-05-05 | 1 | 247 | 264 |\n",
       "| 1503960366 | 2020-05-06 | 1 | 334 | 367 |\n",
       "| 1503960366 | 2020-05-07 | 1 | 331 | 349 |\n",
       "| 1503960366 | 2020-05-08 | 1 | 594 | 611 |\n",
       "| 1503960366 | 2020-05-09 | 1 | 338 | 342 |\n",
       "| 1503960366 | 2020-05-10 | 1 | 383 | 403 |\n",
       "| 1503960366 | 2020-05-11 | 1 | 285 | 306 |\n",
       "| 1644430081 | 2020-04-29 | 1 | 119 | 127 |\n",
       "| 1644430081 | 2020-04-30 | 1 | 124 | 142 |\n",
       "| 1644430081 | 2020-05-02 | 1 | 796 | 961 |\n",
       "| 1644430081 | 2020-05-08 | 1 | 137 | 154 |\n",
       "| 1844505072 | 2020-04-15 | 1 | 644 | 961 |\n",
       "| ⋮ | ⋮ | ⋮ | ⋮ | ⋮ |\n",
       "| 8378563200 | 2020-04-28 | 1 | 506 | 556 |\n",
       "| 8378563200 | 2020-04-29 | 1 | 527 | 562 |\n",
       "| 8378563200 | 2020-04-30 | 1 | 468 | 555 |\n",
       "| 8378563200 | 2020-05-01 | 1 | 475 | 539 |\n",
       "| 8378563200 | 2020-05-02 | 1 | 351 | 385 |\n",
       "| 8378563200 | 2020-05-03 | 1 | 405 | 429 |\n",
       "| 8378563200 | 2020-05-04 | 1 | 441 | 477 |\n",
       "| 8378563200 | 2020-05-05 | 1 | 381 | 417 |\n",
       "| 8378563200 | 2020-05-06 | 1 | 323 | 355 |\n",
       "| 8378563200 | 2020-05-07 | 2 | 459 | 513 |\n",
       "| 8378563200 | 2020-05-08 | 1 | 545 | 606 |\n",
       "| 8378563200 | 2020-05-09 | 1 | 359 | 399 |\n",
       "| 8378563200 | 2020-05-10 | 1 | 342 | 391 |\n",
       "| 8378563200 | 2020-05-11 | 1 | 368 | 387 |\n",
       "| 8378563200 | 2020-05-12 | 1 | 496 | 546 |\n",
       "| 8792009665 | 2020-04-12 | 1 | 458 | 493 |\n",
       "| 8792009665 | 2020-04-13 | 1 | 531 | 552 |\n",
       "| 8792009665 | 2020-04-14 | 1 | 486 | 503 |\n",
       "| 8792009665 | 2020-04-15 | 1 | 363 | 377 |\n",
       "| 8792009665 | 2020-04-20 | 1 | 528 | 547 |\n",
       "| 8792009665 | 2020-04-22 | 1 | 391 | 407 |\n",
       "| 8792009665 | 2020-04-23 | 1 | 339 | 360 |\n",
       "| 8792009665 | 2020-04-27 | 1 | 423 | 428 |\n",
       "| 8792009665 | 2020-04-28 | 1 | 402 | 416 |\n",
       "| 8792009665 | 2020-04-29 | 1 | 398 | 406 |\n",
       "| 8792009665 | 2020-04-30 | 1 | 343 | 360 |\n",
       "| 8792009665 | 2020-05-01 | 1 | 503 | 527 |\n",
       "| 8792009665 | 2020-05-02 | 1 | 415 | 423 |\n",
       "| 8792009665 | 2020-05-03 | 1 | 516 | 545 |\n",
       "| 8792009665 | 2020-05-04 | 1 | 439 | 463 |\n",
       "\n"
      ],
      "text/plain": [
       "    Id         SleepDay   TotalSleepRecords TotalMinutesAsleep TotalTimeInBed\n",
       "1   1503960366 2020-04-12 1                 327                346           \n",
       "2   1503960366 2020-04-13 2                 384                407           \n",
       "3   1503960366 2020-04-15 1                 412                442           \n",
       "4   1503960366 2020-04-16 2                 340                367           \n",
       "5   1503960366 2020-04-17 1                 700                712           \n",
       "6   1503960366 2020-04-19 1                 304                320           \n",
       "7   1503960366 2020-04-20 1                 360                377           \n",
       "8   1503960366 2020-04-21 1                 325                364           \n",
       "9   1503960366 2020-04-23 1                 361                384           \n",
       "10  1503960366 2020-04-24 1                 430                449           \n",
       "11  1503960366 2020-04-25 1                 277                323           \n",
       "12  1503960366 2020-04-26 1                 245                274           \n",
       "13  1503960366 2020-04-28 1                 366                393           \n",
       "14  1503960366 2020-04-29 1                 341                354           \n",
       "15  1503960366 2020-04-30 1                 404                425           \n",
       "16  1503960366 2020-05-01 1                 369                396           \n",
       "17  1503960366 2020-05-02 1                 277                309           \n",
       "18  1503960366 2020-05-03 1                 273                296           \n",
       "19  1503960366 2020-05-05 1                 247                264           \n",
       "20  1503960366 2020-05-06 1                 334                367           \n",
       "21  1503960366 2020-05-07 1                 331                349           \n",
       "22  1503960366 2020-05-08 1                 594                611           \n",
       "23  1503960366 2020-05-09 1                 338                342           \n",
       "24  1503960366 2020-05-10 1                 383                403           \n",
       "25  1503960366 2020-05-11 1                 285                306           \n",
       "26  1644430081 2020-04-29 1                 119                127           \n",
       "27  1644430081 2020-04-30 1                 124                142           \n",
       "28  1644430081 2020-05-02 1                 796                961           \n",
       "29  1644430081 2020-05-08 1                 137                154           \n",
       "30  1844505072 2020-04-15 1                 644                961           \n",
       "⋮   ⋮          ⋮          ⋮                 ⋮                  ⋮             \n",
       "384 8378563200 2020-04-28 1                 506                556           \n",
       "385 8378563200 2020-04-29 1                 527                562           \n",
       "386 8378563200 2020-04-30 1                 468                555           \n",
       "387 8378563200 2020-05-01 1                 475                539           \n",
       "388 8378563200 2020-05-02 1                 351                385           \n",
       "389 8378563200 2020-05-03 1                 405                429           \n",
       "390 8378563200 2020-05-04 1                 441                477           \n",
       "391 8378563200 2020-05-05 1                 381                417           \n",
       "392 8378563200 2020-05-06 1                 323                355           \n",
       "393 8378563200 2020-05-07 2                 459                513           \n",
       "394 8378563200 2020-05-08 1                 545                606           \n",
       "395 8378563200 2020-05-09 1                 359                399           \n",
       "396 8378563200 2020-05-10 1                 342                391           \n",
       "397 8378563200 2020-05-11 1                 368                387           \n",
       "398 8378563200 2020-05-12 1                 496                546           \n",
       "399 8792009665 2020-04-12 1                 458                493           \n",
       "400 8792009665 2020-04-13 1                 531                552           \n",
       "401 8792009665 2020-04-14 1                 486                503           \n",
       "402 8792009665 2020-04-15 1                 363                377           \n",
       "403 8792009665 2020-04-20 1                 528                547           \n",
       "404 8792009665 2020-04-22 1                 391                407           \n",
       "405 8792009665 2020-04-23 1                 339                360           \n",
       "406 8792009665 2020-04-27 1                 423                428           \n",
       "407 8792009665 2020-04-28 1                 402                416           \n",
       "408 8792009665 2020-04-29 1                 398                406           \n",
       "409 8792009665 2020-04-30 1                 343                360           \n",
       "410 8792009665 2020-05-01 1                 503                527           \n",
       "411 8792009665 2020-05-02 1                 415                423           \n",
       "412 8792009665 2020-05-03 1                 516                545           \n",
       "413 8792009665 2020-05-04 1                 439                463           "
      ]
     },
     "metadata": {},
     "output_type": "display_data"
    }
   ],
   "source": [
    "#dropping missing values or 'NULL' values\n",
    "drop_na(sleep_day)\n"
   ]
  },
  {
   "cell_type": "code",
   "execution_count": 17,
   "id": "6983a1f3",
   "metadata": {
    "execution": {
     "iopub.execute_input": "2023-09-05T12:26:00.337796Z",
     "iopub.status.busy": "2023-09-05T12:26:00.335568Z",
     "iopub.status.idle": "2023-09-05T12:26:00.804371Z",
     "shell.execute_reply": "2023-09-05T12:26:00.802278Z"
    },
    "papermill": {
     "duration": 0.495314,
     "end_time": "2023-09-05T12:26:00.804556",
     "exception": false,
     "start_time": "2023-09-05T12:26:00.309242",
     "status": "completed"
    },
    "tags": []
   },
   "outputs": [
    {
     "name": "stdout",
     "output_type": "stream",
     "text": [
      "── Data Summary ────────────────────────\n",
      "                           Values   \n",
      "Name                       sleep_day\n",
      "Number of rows             413      \n",
      "Number of columns          5        \n",
      "_______________________             \n",
      "Column type frequency:              \n",
      "  Date                     1        \n",
      "  numeric                  4        \n",
      "________________________            \n",
      "Group variables            None     \n",
      "\n",
      "── Variable type: Date ─────────────────────────────────────────────────────────\n",
      "  skim_variable n_missing complete_rate min        max        median    \n",
      "1 SleepDay              0             1 2020-04-12 2020-05-12 2020-04-27\n",
      "  n_unique\n",
      "1       31\n",
      "\n",
      "── Variable type: numeric ──────────────────────────────────────────────────────\n",
      "  skim_variable      n_missing complete_rate          mean      sd         p0\n",
      "1 Id                         0             1 5000979403.   2.06e+9 1503960366\n",
      "2 TotalSleepRecords          0             1          1.12 3.46e-1          1\n",
      "3 TotalMinutesAsleep         0             1        419.   1.18e+2         58\n",
      "4 TotalTimeInBed             0             1        459.   1.27e+2         61\n",
      "         p25        p50        p75       p100\n",
      "1 3977333714 4702921684 6962181067 8792009665\n",
      "2          1          1          1          3\n",
      "3        361        433        490        796\n",
      "4        403        463        526        961\n",
      "── Data Summary ────────────────────────\n",
      "                           Values        \n",
      "Name                       daily_activity\n",
      "Number of rows             940           \n",
      "Number of columns          15            \n",
      "_______________________                  \n",
      "Column type frequency:                   \n",
      "  Date                     1             \n",
      "  numeric                  14            \n",
      "________________________                 \n",
      "Group variables            None          \n",
      "\n",
      "── Variable type: Date ─────────────────────────────────────────────────────────\n",
      "  skim_variable n_missing complete_rate min        max        median    \n",
      "1 ActivityDate          0             1 2020-04-12 2020-05-12 2020-04-26\n",
      "  n_unique\n",
      "1       31\n",
      "\n",
      "── Variable type: numeric ──────────────────────────────────────────────────────\n",
      "   skim_variable            n_missing complete_rate    mean      sd         p0\n",
      " 1 Id                               0             1 4.86e+9 2.42e+9 1503960366\n",
      " 2 TotalSteps                       0             1 7.64e+3 5.09e+3          0\n",
      " 3 TotalDistance                    0             1 5.49e+0 3.92e+0          0\n",
      " 4 TrackerDistance                  0             1 5.48e+0 3.91e+0          0\n",
      " 5 LoggedActivitiesDistance         0             1 1.08e-1 6.20e-1          0\n",
      " 6 VeryActiveDistance               0             1 1.50e+0 2.66e+0          0\n",
      " 7 ModeratelyActiveDistance         0             1 5.68e-1 8.84e-1          0\n",
      " 8 LightActiveDistance              0             1 3.34e+0 2.04e+0          0\n",
      " 9 SedentaryActiveDistance          0             1 1.61e-3 7.35e-3          0\n",
      "10 VeryActiveMinutes                0             1 2.12e+1 3.28e+1          0\n",
      "11 FairlyActiveMinutes              0             1 1.36e+1 2.00e+1          0\n",
      "12 LightlyActiveMinutes             0             1 1.93e+2 1.09e+2          0\n",
      "13 SedentaryMinutes                 0             1 9.91e+2 3.01e+2          0\n",
      "14 Calories                         0             1 2.30e+3 7.18e+2          0\n",
      "             p25     p50     p75    p100\n",
      " 1 2320127002    4.45e+9 6.96e+9 8.88e+9\n",
      " 2       3790.   7.41e+3 1.07e+4 3.60e+4\n",
      " 3          2.62 5.24e+0 7.71e+0 2.80e+1\n",
      " 4          2.62 5.24e+0 7.71e+0 2.80e+1\n",
      " 5          0    0       0       4.94e+0\n",
      " 6          0    2.10e-1 2.05e+0 2.19e+1\n",
      " 7          0    2.40e-1 8.00e-1 6.48e+0\n",
      " 8          1.95 3.36e+0 4.78e+0 1.07e+1\n",
      " 9          0    0       0       1.10e-1\n",
      "10          0    4   e+0 3.2 e+1 2.1 e+2\n",
      "11          0    6   e+0 1.9 e+1 1.43e+2\n",
      "12        127    1.99e+2 2.64e+2 5.18e+2\n",
      "13        730.   1.06e+3 1.23e+3 1.44e+3\n",
      "14       1828.   2.13e+3 2.79e+3 4.9 e+3\n"
     ]
    }
   ],
   "source": [
    "skim_without_charts(sleep_day)\n",
    "skim_without_charts(daily_activity)\n"
   ]
  },
  {
   "cell_type": "markdown",
   "id": "fcb1bce3",
   "metadata": {
    "papermill": {
     "duration": 0.020049,
     "end_time": "2023-09-05T12:26:00.846688",
     "exception": false,
     "start_time": "2023-09-05T12:26:00.826639",
     "status": "completed"
    },
    "tags": []
   },
   "source": [
    "***Now let’s check some data stats from the dataset***"
   ]
  },
  {
   "cell_type": "code",
   "execution_count": 18,
   "id": "d96ae518",
   "metadata": {
    "execution": {
     "iopub.execute_input": "2023-09-05T12:26:00.895103Z",
     "iopub.status.busy": "2023-09-05T12:26:00.892304Z",
     "iopub.status.idle": "2023-09-05T12:26:00.943846Z",
     "shell.execute_reply": "2023-09-05T12:26:00.942036Z"
    },
    "papermill": {
     "duration": 0.077361,
     "end_time": "2023-09-05T12:26:00.944064",
     "exception": false,
     "start_time": "2023-09-05T12:26:00.866703",
     "status": "completed"
    },
    "tags": []
   },
   "outputs": [
    {
     "data": {
      "text/plain": [
       "   TotalSteps    TotalDistance    SedentaryMinutes\n",
       " Min.   :    0   Min.   : 0.000   Min.   :   0.0  \n",
       " 1st Qu.: 3790   1st Qu.: 2.620   1st Qu.: 729.8  \n",
       " Median : 7406   Median : 5.245   Median :1057.5  \n",
       " Mean   : 7638   Mean   : 5.490   Mean   : 991.2  \n",
       " 3rd Qu.:10727   3rd Qu.: 7.713   3rd Qu.:1229.5  \n",
       " Max.   :36019   Max.   :28.030   Max.   :1440.0  "
      ]
     },
     "metadata": {},
     "output_type": "display_data"
    },
    {
     "data": {
      "text/html": [
       "<table class=\"dataframe\">\n",
       "<caption>A data.frame: 10 × 15</caption>\n",
       "<thead>\n",
       "\t<tr><th></th><th scope=col>Id</th><th scope=col>ActivityDate</th><th scope=col>TotalSteps</th><th scope=col>TotalDistance</th><th scope=col>TrackerDistance</th><th scope=col>LoggedActivitiesDistance</th><th scope=col>VeryActiveDistance</th><th scope=col>ModeratelyActiveDistance</th><th scope=col>LightActiveDistance</th><th scope=col>SedentaryActiveDistance</th><th scope=col>VeryActiveMinutes</th><th scope=col>FairlyActiveMinutes</th><th scope=col>LightlyActiveMinutes</th><th scope=col>SedentaryMinutes</th><th scope=col>Calories</th></tr>\n",
       "\t<tr><th></th><th scope=col>&lt;dbl&gt;</th><th scope=col>&lt;date&gt;</th><th scope=col>&lt;int&gt;</th><th scope=col>&lt;dbl&gt;</th><th scope=col>&lt;dbl&gt;</th><th scope=col>&lt;dbl&gt;</th><th scope=col>&lt;dbl&gt;</th><th scope=col>&lt;dbl&gt;</th><th scope=col>&lt;dbl&gt;</th><th scope=col>&lt;dbl&gt;</th><th scope=col>&lt;int&gt;</th><th scope=col>&lt;int&gt;</th><th scope=col>&lt;int&gt;</th><th scope=col>&lt;int&gt;</th><th scope=col>&lt;int&gt;</th></tr>\n",
       "</thead>\n",
       "<tbody>\n",
       "\t<tr><th scope=row>1</th><td>1503960366</td><td>2020-04-12</td><td>13162</td><td>8.50</td><td>8.50</td><td>0</td><td>1.88</td><td>0.55</td><td>6.06</td><td>0</td><td>25</td><td>13</td><td>328</td><td> 728</td><td>1985</td></tr>\n",
       "\t<tr><th scope=row>2</th><td>1503960366</td><td>2020-04-13</td><td>10735</td><td>6.97</td><td>6.97</td><td>0</td><td>1.57</td><td>0.69</td><td>4.71</td><td>0</td><td>21</td><td>19</td><td>217</td><td> 776</td><td>1797</td></tr>\n",
       "\t<tr><th scope=row>3</th><td>1503960366</td><td>2020-04-14</td><td>10460</td><td>6.74</td><td>6.74</td><td>0</td><td>2.44</td><td>0.40</td><td>3.91</td><td>0</td><td>30</td><td>11</td><td>181</td><td>1218</td><td>1776</td></tr>\n",
       "\t<tr><th scope=row>4</th><td>1503960366</td><td>2020-04-15</td><td> 9762</td><td>6.28</td><td>6.28</td><td>0</td><td>2.14</td><td>1.26</td><td>2.83</td><td>0</td><td>29</td><td>34</td><td>209</td><td> 726</td><td>1745</td></tr>\n",
       "\t<tr><th scope=row>5</th><td>1503960366</td><td>2020-04-16</td><td>12669</td><td>8.16</td><td>8.16</td><td>0</td><td>2.71</td><td>0.41</td><td>5.04</td><td>0</td><td>36</td><td>10</td><td>221</td><td> 773</td><td>1863</td></tr>\n",
       "\t<tr><th scope=row>6</th><td>1503960366</td><td>2020-04-17</td><td> 9705</td><td>6.48</td><td>6.48</td><td>0</td><td>3.19</td><td>0.78</td><td>2.51</td><td>0</td><td>38</td><td>20</td><td>164</td><td> 539</td><td>1728</td></tr>\n",
       "\t<tr><th scope=row>7</th><td>1503960366</td><td>2020-04-18</td><td>13019</td><td>8.59</td><td>8.59</td><td>0</td><td>3.25</td><td>0.64</td><td>4.71</td><td>0</td><td>42</td><td>16</td><td>233</td><td>1149</td><td>1921</td></tr>\n",
       "\t<tr><th scope=row>8</th><td>1503960366</td><td>2020-04-19</td><td>15506</td><td>9.88</td><td>9.88</td><td>0</td><td>3.53</td><td>1.32</td><td>5.03</td><td>0</td><td>50</td><td>31</td><td>264</td><td> 775</td><td>2035</td></tr>\n",
       "\t<tr><th scope=row>9</th><td>1503960366</td><td>2020-04-20</td><td>10544</td><td>6.68</td><td>6.68</td><td>0</td><td>1.96</td><td>0.48</td><td>4.24</td><td>0</td><td>28</td><td>12</td><td>205</td><td> 818</td><td>1786</td></tr>\n",
       "\t<tr><th scope=row>10</th><td>1503960366</td><td>2020-04-21</td><td> 9819</td><td>6.34</td><td>6.34</td><td>0</td><td>1.34</td><td>0.35</td><td>4.65</td><td>0</td><td>19</td><td> 8</td><td>211</td><td> 838</td><td>1775</td></tr>\n",
       "</tbody>\n",
       "</table>\n"
      ],
      "text/latex": [
       "A data.frame: 10 × 15\n",
       "\\begin{tabular}{r|lllllllllllllll}\n",
       "  & Id & ActivityDate & TotalSteps & TotalDistance & TrackerDistance & LoggedActivitiesDistance & VeryActiveDistance & ModeratelyActiveDistance & LightActiveDistance & SedentaryActiveDistance & VeryActiveMinutes & FairlyActiveMinutes & LightlyActiveMinutes & SedentaryMinutes & Calories\\\\\n",
       "  & <dbl> & <date> & <int> & <dbl> & <dbl> & <dbl> & <dbl> & <dbl> & <dbl> & <dbl> & <int> & <int> & <int> & <int> & <int>\\\\\n",
       "\\hline\n",
       "\t1 & 1503960366 & 2020-04-12 & 13162 & 8.50 & 8.50 & 0 & 1.88 & 0.55 & 6.06 & 0 & 25 & 13 & 328 &  728 & 1985\\\\\n",
       "\t2 & 1503960366 & 2020-04-13 & 10735 & 6.97 & 6.97 & 0 & 1.57 & 0.69 & 4.71 & 0 & 21 & 19 & 217 &  776 & 1797\\\\\n",
       "\t3 & 1503960366 & 2020-04-14 & 10460 & 6.74 & 6.74 & 0 & 2.44 & 0.40 & 3.91 & 0 & 30 & 11 & 181 & 1218 & 1776\\\\\n",
       "\t4 & 1503960366 & 2020-04-15 &  9762 & 6.28 & 6.28 & 0 & 2.14 & 1.26 & 2.83 & 0 & 29 & 34 & 209 &  726 & 1745\\\\\n",
       "\t5 & 1503960366 & 2020-04-16 & 12669 & 8.16 & 8.16 & 0 & 2.71 & 0.41 & 5.04 & 0 & 36 & 10 & 221 &  773 & 1863\\\\\n",
       "\t6 & 1503960366 & 2020-04-17 &  9705 & 6.48 & 6.48 & 0 & 3.19 & 0.78 & 2.51 & 0 & 38 & 20 & 164 &  539 & 1728\\\\\n",
       "\t7 & 1503960366 & 2020-04-18 & 13019 & 8.59 & 8.59 & 0 & 3.25 & 0.64 & 4.71 & 0 & 42 & 16 & 233 & 1149 & 1921\\\\\n",
       "\t8 & 1503960366 & 2020-04-19 & 15506 & 9.88 & 9.88 & 0 & 3.53 & 1.32 & 5.03 & 0 & 50 & 31 & 264 &  775 & 2035\\\\\n",
       "\t9 & 1503960366 & 2020-04-20 & 10544 & 6.68 & 6.68 & 0 & 1.96 & 0.48 & 4.24 & 0 & 28 & 12 & 205 &  818 & 1786\\\\\n",
       "\t10 & 1503960366 & 2020-04-21 &  9819 & 6.34 & 6.34 & 0 & 1.34 & 0.35 & 4.65 & 0 & 19 &  8 & 211 &  838 & 1775\\\\\n",
       "\\end{tabular}\n"
      ],
      "text/markdown": [
       "\n",
       "A data.frame: 10 × 15\n",
       "\n",
       "| <!--/--> | Id &lt;dbl&gt; | ActivityDate &lt;date&gt; | TotalSteps &lt;int&gt; | TotalDistance &lt;dbl&gt; | TrackerDistance &lt;dbl&gt; | LoggedActivitiesDistance &lt;dbl&gt; | VeryActiveDistance &lt;dbl&gt; | ModeratelyActiveDistance &lt;dbl&gt; | LightActiveDistance &lt;dbl&gt; | SedentaryActiveDistance &lt;dbl&gt; | VeryActiveMinutes &lt;int&gt; | FairlyActiveMinutes &lt;int&gt; | LightlyActiveMinutes &lt;int&gt; | SedentaryMinutes &lt;int&gt; | Calories &lt;int&gt; |\n",
       "|---|---|---|---|---|---|---|---|---|---|---|---|---|---|---|---|\n",
       "| 1 | 1503960366 | 2020-04-12 | 13162 | 8.50 | 8.50 | 0 | 1.88 | 0.55 | 6.06 | 0 | 25 | 13 | 328 |  728 | 1985 |\n",
       "| 2 | 1503960366 | 2020-04-13 | 10735 | 6.97 | 6.97 | 0 | 1.57 | 0.69 | 4.71 | 0 | 21 | 19 | 217 |  776 | 1797 |\n",
       "| 3 | 1503960366 | 2020-04-14 | 10460 | 6.74 | 6.74 | 0 | 2.44 | 0.40 | 3.91 | 0 | 30 | 11 | 181 | 1218 | 1776 |\n",
       "| 4 | 1503960366 | 2020-04-15 |  9762 | 6.28 | 6.28 | 0 | 2.14 | 1.26 | 2.83 | 0 | 29 | 34 | 209 |  726 | 1745 |\n",
       "| 5 | 1503960366 | 2020-04-16 | 12669 | 8.16 | 8.16 | 0 | 2.71 | 0.41 | 5.04 | 0 | 36 | 10 | 221 |  773 | 1863 |\n",
       "| 6 | 1503960366 | 2020-04-17 |  9705 | 6.48 | 6.48 | 0 | 3.19 | 0.78 | 2.51 | 0 | 38 | 20 | 164 |  539 | 1728 |\n",
       "| 7 | 1503960366 | 2020-04-18 | 13019 | 8.59 | 8.59 | 0 | 3.25 | 0.64 | 4.71 | 0 | 42 | 16 | 233 | 1149 | 1921 |\n",
       "| 8 | 1503960366 | 2020-04-19 | 15506 | 9.88 | 9.88 | 0 | 3.53 | 1.32 | 5.03 | 0 | 50 | 31 | 264 |  775 | 2035 |\n",
       "| 9 | 1503960366 | 2020-04-20 | 10544 | 6.68 | 6.68 | 0 | 1.96 | 0.48 | 4.24 | 0 | 28 | 12 | 205 |  818 | 1786 |\n",
       "| 10 | 1503960366 | 2020-04-21 |  9819 | 6.34 | 6.34 | 0 | 1.34 | 0.35 | 4.65 | 0 | 19 |  8 | 211 |  838 | 1775 |\n",
       "\n"
      ],
      "text/plain": [
       "   Id         ActivityDate TotalSteps TotalDistance TrackerDistance\n",
       "1  1503960366 2020-04-12   13162      8.50          8.50           \n",
       "2  1503960366 2020-04-13   10735      6.97          6.97           \n",
       "3  1503960366 2020-04-14   10460      6.74          6.74           \n",
       "4  1503960366 2020-04-15    9762      6.28          6.28           \n",
       "5  1503960366 2020-04-16   12669      8.16          8.16           \n",
       "6  1503960366 2020-04-17    9705      6.48          6.48           \n",
       "7  1503960366 2020-04-18   13019      8.59          8.59           \n",
       "8  1503960366 2020-04-19   15506      9.88          9.88           \n",
       "9  1503960366 2020-04-20   10544      6.68          6.68           \n",
       "10 1503960366 2020-04-21    9819      6.34          6.34           \n",
       "   LoggedActivitiesDistance VeryActiveDistance ModeratelyActiveDistance\n",
       "1  0                        1.88               0.55                    \n",
       "2  0                        1.57               0.69                    \n",
       "3  0                        2.44               0.40                    \n",
       "4  0                        2.14               1.26                    \n",
       "5  0                        2.71               0.41                    \n",
       "6  0                        3.19               0.78                    \n",
       "7  0                        3.25               0.64                    \n",
       "8  0                        3.53               1.32                    \n",
       "9  0                        1.96               0.48                    \n",
       "10 0                        1.34               0.35                    \n",
       "   LightActiveDistance SedentaryActiveDistance VeryActiveMinutes\n",
       "1  6.06                0                       25               \n",
       "2  4.71                0                       21               \n",
       "3  3.91                0                       30               \n",
       "4  2.83                0                       29               \n",
       "5  5.04                0                       36               \n",
       "6  2.51                0                       38               \n",
       "7  4.71                0                       42               \n",
       "8  5.03                0                       50               \n",
       "9  4.24                0                       28               \n",
       "10 4.65                0                       19               \n",
       "   FairlyActiveMinutes LightlyActiveMinutes SedentaryMinutes Calories\n",
       "1  13                  328                   728             1985    \n",
       "2  19                  217                   776             1797    \n",
       "3  11                  181                  1218             1776    \n",
       "4  34                  209                   726             1745    \n",
       "5  10                  221                   773             1863    \n",
       "6  20                  164                   539             1728    \n",
       "7  16                  233                  1149             1921    \n",
       "8  31                  264                   775             2035    \n",
       "9  12                  205                   818             1786    \n",
       "10  8                  211                   838             1775    "
      ]
     },
     "metadata": {},
     "output_type": "display_data"
    }
   ],
   "source": [
    "#daily_activity\n",
    "\n",
    "daily_activity %>%\n",
    "select(TotalSteps, TotalDistance, SedentaryMinutes) %>%\n",
    "summary()\n",
    "head(daily_activity, n=10)"
   ]
  },
  {
   "cell_type": "markdown",
   "id": "f3daae2e",
   "metadata": {
    "papermill": {
     "duration": 0.01995,
     "end_time": "2023-09-05T12:26:00.984169",
     "exception": false,
     "start_time": "2023-09-05T12:26:00.964219",
     "status": "completed"
    },
    "tags": []
   },
   "source": [
    "**Analysis:**\n",
    "* Average steps/ day: 7638\n",
    "* Average distance travelled/ day: 5.490 km\n",
    "* Average Sedentary Minutes/ day: 991.2 mins ~ 16.52 hrs\n",
    "\n",
    "* Maximum steps/ day: 36019\n",
    "* Maximum distance travelled/ day: 28.030 km\n",
    "* Maximum Sedentary Minutes/ day: 1440 mins ~ 24 hrs\n",
    "\n",
    "2011 study found that healthy adults should take 10,000 steps/day, i.e. is a reasonable target for healthy adults. Unfortunately tracking data shows that people are doing it less than the recommended target by doctor. \n",
    "Sedentary time is 16.52 hrs, which is also very unhealthy for a human body and can lead to health issues in the long term.\n"
   ]
  },
  {
   "cell_type": "code",
   "execution_count": 19,
   "id": "2b3505a4",
   "metadata": {
    "execution": {
     "iopub.execute_input": "2023-09-05T12:26:01.032577Z",
     "iopub.status.busy": "2023-09-05T12:26:01.029966Z",
     "iopub.status.idle": "2023-09-05T12:26:01.057169Z",
     "shell.execute_reply": "2023-09-05T12:26:01.055160Z"
    },
    "papermill": {
     "duration": 0.053052,
     "end_time": "2023-09-05T12:26:01.057369",
     "exception": false,
     "start_time": "2023-09-05T12:26:01.004317",
     "status": "completed"
    },
    "tags": []
   },
   "outputs": [
    {
     "data": {
      "text/plain": [
       " VeryActiveMinutes FairlyActiveMinutes LightlyActiveMinutes\n",
       " Min.   :  0.00    Min.   :  0.00      Min.   :  0.0       \n",
       " 1st Qu.:  0.00    1st Qu.:  0.00      1st Qu.:127.0       \n",
       " Median :  4.00    Median :  6.00      Median :199.0       \n",
       " Mean   : 21.16    Mean   : 13.56      Mean   :192.8       \n",
       " 3rd Qu.: 32.00    3rd Qu.: 19.00      3rd Qu.:264.0       \n",
       " Max.   :210.00    Max.   :143.00      Max.   :518.0       "
      ]
     },
     "metadata": {},
     "output_type": "display_data"
    }
   ],
   "source": [
    "#number of minutes in each category\n",
    "daily_activity %>%\n",
    "select(VeryActiveMinutes, FairlyActiveMinutes, LightlyActiveMinutes) %>%\n",
    "summary()"
   ]
  },
  {
   "cell_type": "markdown",
   "id": "5fa988df",
   "metadata": {
    "papermill": {
     "duration": 0.020003,
     "end_time": "2023-09-05T12:26:01.098358",
     "exception": false,
     "start_time": "2023-09-05T12:26:01.078355",
     "status": "completed"
    },
    "tags": []
   },
   "source": [
    "**Analysis:** \n",
    "Average very active minutes per day is 21.16 mins. Whereas WHO recommends adults 18+ should do at least 75–150 minutes of vigorous-intensity activities/workout throughout the week.\n"
   ]
  },
  {
   "cell_type": "code",
   "execution_count": 20,
   "id": "c6780c67",
   "metadata": {
    "execution": {
     "iopub.execute_input": "2023-09-05T12:26:01.145494Z",
     "iopub.status.busy": "2023-09-05T12:26:01.143319Z",
     "iopub.status.idle": "2023-09-05T12:26:01.171823Z",
     "shell.execute_reply": "2023-09-05T12:26:01.170002Z"
    },
    "papermill": {
     "duration": 0.053656,
     "end_time": "2023-09-05T12:26:01.172034",
     "exception": false,
     "start_time": "2023-09-05T12:26:01.118378",
     "status": "completed"
    },
    "tags": []
   },
   "outputs": [
    {
     "data": {
      "text/plain": [
       " TotalSleepRecords TotalMinutesAsleep TotalTimeInBed \n",
       " Min.   :1.000     Min.   : 58.0      Min.   : 61.0  \n",
       " 1st Qu.:1.000     1st Qu.:361.0      1st Qu.:403.0  \n",
       " Median :1.000     Median :433.0      Median :463.0  \n",
       " Mean   :1.119     Mean   :419.5      Mean   :458.6  \n",
       " 3rd Qu.:1.000     3rd Qu.:490.0      3rd Qu.:526.0  \n",
       " Max.   :3.000     Max.   :796.0      Max.   :961.0  "
      ]
     },
     "metadata": {},
     "output_type": "display_data"
    }
   ],
   "source": [
    "#sleep data\n",
    "sleep_day %>%  \n",
    "select(TotalSleepRecords,TotalMinutesAsleep,TotalTimeInBed) %>%\n",
    "summary()\n"
   ]
  },
  {
   "cell_type": "markdown",
   "id": "ca2bdeab",
   "metadata": {
    "papermill": {
     "duration": 0.02007,
     "end_time": "2023-09-05T12:26:01.212263",
     "exception": false,
     "start_time": "2023-09-05T12:26:01.192193",
     "status": "completed"
    },
    "tags": []
   },
   "source": [
    "**Analysis:**\n",
    "Average sleep time is 419.5 mins ~ 6.99 which is equal to doctor's recommendation (i.e. 7 hrs) and total time in bed is 458.6 mins ~ 7.64 hr. \n",
    "Maximum sleep time is 796 min ~13.26 hr which is very unhealthy and maximum time in bed is 961 mins 16.01 hr. \n",
    "Difference between maximum time in bed and maximum sleep time is 2.75 hr. This raises a question WHY? Do the participants suffer from insomnia or do they read in bed, surf the internet or watch netflix? \n",
    "\n",
    "Let's deep dive more and make a plot."
   ]
  },
  {
   "cell_type": "code",
   "execution_count": 21,
   "id": "a2b6cd34",
   "metadata": {
    "execution": {
     "iopub.execute_input": "2023-09-05T12:26:01.262572Z",
     "iopub.status.busy": "2023-09-05T12:26:01.260209Z",
     "iopub.status.idle": "2023-09-05T12:26:03.521286Z",
     "shell.execute_reply": "2023-09-05T12:26:03.520461Z"
    },
    "papermill": {
     "duration": 2.288251,
     "end_time": "2023-09-05T12:26:03.521453",
     "exception": false,
     "start_time": "2023-09-05T12:26:01.233202",
     "status": "completed"
    },
    "tags": []
   },
   "outputs": [
    {
     "name": "stderr",
     "output_type": "stream",
     "text": [
      "`geom_smooth()` using method = 'loess' and formula 'y ~ x'\n",
      "\n"
     ]
    },
    {
     "data": {
      "image/png": "[encoded data removed]"
     },
     "metadata": {
      "image/png": {
       "height": 420,
       "width": 420
      }
     },
     "output_type": "display_data"
    }
   ],
   "source": [
    "#PLOT1: \"Total minutes asleep v/s Time in bed\"\n",
    "\n",
    "ggplot(data=sleep_day) +\n",
    "geom_smooth(mapping=aes(x=TotalMinutesAsleep, y=TotalTimeInBed, color=Id))+\n",
    "geom_point(mapping=aes(x=TotalMinutesAsleep, y=TotalTimeInBed, color=Id))"
   ]
  },
  {
   "cell_type": "markdown",
   "id": "ce03fd25",
   "metadata": {
    "papermill": {
     "duration": 0.021675,
     "end_time": "2023-09-05T12:26:03.565267",
     "exception": false,
     "start_time": "2023-09-05T12:26:03.543592",
     "status": "completed"
    },
    "tags": []
   },
   "source": [
    "**Plot confirms that the line is not straight hence, there is a difference between sleep time and time in bed which needs to be addressed and removed. So if the Bellabeat users want to improve their sleep, they should consider using notifications to go to sleep early.**"
   ]
  },
  {
   "cell_type": "markdown",
   "id": "f525a99f",
   "metadata": {
    "papermill": {
     "duration": 0.021592,
     "end_time": "2023-09-05T12:26:03.608748",
     "exception": false,
     "start_time": "2023-09-05T12:26:03.587156",
     "status": "completed"
    },
    "tags": []
   },
   "source": [
    "Let's merge data for some more analysis. "
   ]
  },
  {
   "cell_type": "code",
   "execution_count": 22,
   "id": "73dfc328",
   "metadata": {
    "execution": {
     "iopub.execute_input": "2023-09-05T12:26:03.663488Z",
     "iopub.status.busy": "2023-09-05T12:26:03.661281Z",
     "iopub.status.idle": "2023-09-05T12:26:03.725426Z",
     "shell.execute_reply": "2023-09-05T12:26:03.723570Z"
    },
    "papermill": {
     "duration": 0.093892,
     "end_time": "2023-09-05T12:26:03.725593",
     "exception": false,
     "start_time": "2023-09-05T12:26:03.631701",
     "status": "completed"
    },
    "tags": []
   },
   "outputs": [
    {
     "data": {
      "text/html": [
       "<table class=\"dataframe\">\n",
       "<caption>A data.frame: 2 × 16</caption>\n",
       "<thead>\n",
       "\t<tr><th></th><th scope=col>Id</th><th scope=col>ActivityDate</th><th scope=col>TotalSteps</th><th scope=col>TotalDistance</th><th scope=col>TrackerDistance</th><th scope=col>LoggedActivitiesDistance</th><th scope=col>VeryActiveDistance</th><th scope=col>ModeratelyActiveDistance</th><th scope=col>LightActiveDistance</th><th scope=col>SedentaryActiveDistance</th><th scope=col>VeryActiveMinutes</th><th scope=col>FairlyActiveMinutes</th><th scope=col>LightlyActiveMinutes</th><th scope=col>SedentaryMinutes</th><th scope=col>Calories</th><th scope=col>date</th></tr>\n",
       "\t<tr><th></th><th scope=col>&lt;dbl&gt;</th><th scope=col>&lt;dttm&gt;</th><th scope=col>&lt;int&gt;</th><th scope=col>&lt;dbl&gt;</th><th scope=col>&lt;dbl&gt;</th><th scope=col>&lt;dbl&gt;</th><th scope=col>&lt;dbl&gt;</th><th scope=col>&lt;dbl&gt;</th><th scope=col>&lt;dbl&gt;</th><th scope=col>&lt;dbl&gt;</th><th scope=col>&lt;int&gt;</th><th scope=col>&lt;int&gt;</th><th scope=col>&lt;int&gt;</th><th scope=col>&lt;int&gt;</th><th scope=col>&lt;int&gt;</th><th scope=col>&lt;chr&gt;</th></tr>\n",
       "</thead>\n",
       "<tbody>\n",
       "\t<tr><th scope=row>1</th><td>1503960366</td><td>2020-04-12</td><td>13162</td><td>8.50</td><td>8.50</td><td>0</td><td>1.88</td><td>0.55</td><td>6.06</td><td>0</td><td>25</td><td>13</td><td>328</td><td>728</td><td>1985</td><td>04/12/2020</td></tr>\n",
       "\t<tr><th scope=row>2</th><td>1503960366</td><td>2020-04-13</td><td>10735</td><td>6.97</td><td>6.97</td><td>0</td><td>1.57</td><td>0.69</td><td>4.71</td><td>0</td><td>21</td><td>19</td><td>217</td><td>776</td><td>1797</td><td>04/13/2020</td></tr>\n",
       "</tbody>\n",
       "</table>\n"
      ],
      "text/latex": [
       "A data.frame: 2 × 16\n",
       "\\begin{tabular}{r|llllllllllllllll}\n",
       "  & Id & ActivityDate & TotalSteps & TotalDistance & TrackerDistance & LoggedActivitiesDistance & VeryActiveDistance & ModeratelyActiveDistance & LightActiveDistance & SedentaryActiveDistance & VeryActiveMinutes & FairlyActiveMinutes & LightlyActiveMinutes & SedentaryMinutes & Calories & date\\\\\n",
       "  & <dbl> & <dttm> & <int> & <dbl> & <dbl> & <dbl> & <dbl> & <dbl> & <dbl> & <dbl> & <int> & <int> & <int> & <int> & <int> & <chr>\\\\\n",
       "\\hline\n",
       "\t1 & 1503960366 & 2020-04-12 & 13162 & 8.50 & 8.50 & 0 & 1.88 & 0.55 & 6.06 & 0 & 25 & 13 & 328 & 728 & 1985 & 04/12/2020\\\\\n",
       "\t2 & 1503960366 & 2020-04-13 & 10735 & 6.97 & 6.97 & 0 & 1.57 & 0.69 & 4.71 & 0 & 21 & 19 & 217 & 776 & 1797 & 04/13/2020\\\\\n",
       "\\end{tabular}\n"
      ],
      "text/markdown": [
       "\n",
       "A data.frame: 2 × 16\n",
       "\n",
       "| <!--/--> | Id &lt;dbl&gt; | ActivityDate &lt;dttm&gt; | TotalSteps &lt;int&gt; | TotalDistance &lt;dbl&gt; | TrackerDistance &lt;dbl&gt; | LoggedActivitiesDistance &lt;dbl&gt; | VeryActiveDistance &lt;dbl&gt; | ModeratelyActiveDistance &lt;dbl&gt; | LightActiveDistance &lt;dbl&gt; | SedentaryActiveDistance &lt;dbl&gt; | VeryActiveMinutes &lt;int&gt; | FairlyActiveMinutes &lt;int&gt; | LightlyActiveMinutes &lt;int&gt; | SedentaryMinutes &lt;int&gt; | Calories &lt;int&gt; | date &lt;chr&gt; |\n",
       "|---|---|---|---|---|---|---|---|---|---|---|---|---|---|---|---|---|\n",
       "| 1 | 1503960366 | 2020-04-12 | 13162 | 8.50 | 8.50 | 0 | 1.88 | 0.55 | 6.06 | 0 | 25 | 13 | 328 | 728 | 1985 | 04/12/2020 |\n",
       "| 2 | 1503960366 | 2020-04-13 | 10735 | 6.97 | 6.97 | 0 | 1.57 | 0.69 | 4.71 | 0 | 21 | 19 | 217 | 776 | 1797 | 04/13/2020 |\n",
       "\n"
      ],
      "text/plain": [
       "  Id         ActivityDate TotalSteps TotalDistance TrackerDistance\n",
       "1 1503960366 2020-04-12   13162      8.50          8.50           \n",
       "2 1503960366 2020-04-13   10735      6.97          6.97           \n",
       "  LoggedActivitiesDistance VeryActiveDistance ModeratelyActiveDistance\n",
       "1 0                        1.88               0.55                    \n",
       "2 0                        1.57               0.69                    \n",
       "  LightActiveDistance SedentaryActiveDistance VeryActiveMinutes\n",
       "1 6.06                0                       25               \n",
       "2 4.71                0                       21               \n",
       "  FairlyActiveMinutes LightlyActiveMinutes SedentaryMinutes Calories date      \n",
       "1 13                  328                  728              1985     04/12/2020\n",
       "2 19                  217                  776              1797     04/13/2020"
      ]
     },
     "metadata": {},
     "output_type": "display_data"
    },
    {
     "data": {
      "text/html": [
       "<table class=\"dataframe\">\n",
       "<caption>A data.frame: 2 × 6</caption>\n",
       "<thead>\n",
       "\t<tr><th></th><th scope=col>Id</th><th scope=col>SleepDay</th><th scope=col>TotalSleepRecords</th><th scope=col>TotalMinutesAsleep</th><th scope=col>TotalTimeInBed</th><th scope=col>date</th></tr>\n",
       "\t<tr><th></th><th scope=col>&lt;dbl&gt;</th><th scope=col>&lt;dttm&gt;</th><th scope=col>&lt;int&gt;</th><th scope=col>&lt;int&gt;</th><th scope=col>&lt;int&gt;</th><th scope=col>&lt;chr&gt;</th></tr>\n",
       "</thead>\n",
       "<tbody>\n",
       "\t<tr><th scope=row>1</th><td>1503960366</td><td>2020-04-12</td><td>1</td><td>327</td><td>346</td><td>04/12/2020</td></tr>\n",
       "\t<tr><th scope=row>2</th><td>1503960366</td><td>2020-04-13</td><td>2</td><td>384</td><td>407</td><td>04/13/2020</td></tr>\n",
       "</tbody>\n",
       "</table>\n"
      ],
      "text/latex": [
       "A data.frame: 2 × 6\n",
       "\\begin{tabular}{r|llllll}\n",
       "  & Id & SleepDay & TotalSleepRecords & TotalMinutesAsleep & TotalTimeInBed & date\\\\\n",
       "  & <dbl> & <dttm> & <int> & <int> & <int> & <chr>\\\\\n",
       "\\hline\n",
       "\t1 & 1503960366 & 2020-04-12 & 1 & 327 & 346 & 04/12/2020\\\\\n",
       "\t2 & 1503960366 & 2020-04-13 & 2 & 384 & 407 & 04/13/2020\\\\\n",
       "\\end{tabular}\n"
      ],
      "text/markdown": [
       "\n",
       "A data.frame: 2 × 6\n",
       "\n",
       "| <!--/--> | Id &lt;dbl&gt; | SleepDay &lt;dttm&gt; | TotalSleepRecords &lt;int&gt; | TotalMinutesAsleep &lt;int&gt; | TotalTimeInBed &lt;int&gt; | date &lt;chr&gt; |\n",
       "|---|---|---|---|---|---|---|\n",
       "| 1 | 1503960366 | 2020-04-12 | 1 | 327 | 346 | 04/12/2020 |\n",
       "| 2 | 1503960366 | 2020-04-13 | 2 | 384 | 407 | 04/13/2020 |\n",
       "\n"
      ],
      "text/plain": [
       "  Id         SleepDay   TotalSleepRecords TotalMinutesAsleep TotalTimeInBed\n",
       "1 1503960366 2020-04-12 1                 327                346           \n",
       "2 1503960366 2020-04-13 2                 384                407           \n",
       "  date      \n",
       "1 04/12/2020\n",
       "2 04/13/2020"
      ]
     },
     "metadata": {},
     "output_type": "display_data"
    }
   ],
   "source": [
    "# activity\n",
    "daily_activity$ActivityDate=as.POSIXct(daily_activity$ActivityDate, format=\"%m/%d/%Y\", tz=Sys.timezone())\n",
    "daily_activity$date <- format(daily_activity$ActivityDate, format = \"%m/%d/%Y\")\n",
    "# sleep\n",
    "sleep_day$SleepDay=as.POSIXct(sleep_day$SleepDay, format= \"%m/%d/%Y %I:%M:%S %p\", tz=Sys.timezone())\n",
    "sleep_day$date <- format(sleep_day$SleepDay, format = \"%m/%d/%Y\")\n",
    "\n",
    "head(daily_activity,2)\n",
    "head(sleep_day,2)\n"
   ]
  },
  {
   "cell_type": "code",
   "execution_count": 23,
   "id": "368508c8",
   "metadata": {
    "execution": {
     "iopub.execute_input": "2023-09-05T12:26:03.780740Z",
     "iopub.status.busy": "2023-09-05T12:26:03.778378Z",
     "iopub.status.idle": "2023-09-05T12:26:03.822359Z",
     "shell.execute_reply": "2023-09-05T12:26:03.820820Z"
    },
    "papermill": {
     "duration": 0.074233,
     "end_time": "2023-09-05T12:26:03.822522",
     "exception": false,
     "start_time": "2023-09-05T12:26:03.748289",
     "status": "completed"
    },
    "tags": []
   },
   "outputs": [
    {
     "data": {
      "text/html": [
       "<table class=\"dataframe\">\n",
       "<caption>A data.frame: 6 × 20</caption>\n",
       "<thead>\n",
       "\t<tr><th></th><th scope=col>Id</th><th scope=col>date</th><th scope=col>SleepDay</th><th scope=col>TotalSleepRecords</th><th scope=col>TotalMinutesAsleep</th><th scope=col>TotalTimeInBed</th><th scope=col>ActivityDate</th><th scope=col>TotalSteps</th><th scope=col>TotalDistance</th><th scope=col>TrackerDistance</th><th scope=col>LoggedActivitiesDistance</th><th scope=col>VeryActiveDistance</th><th scope=col>ModeratelyActiveDistance</th><th scope=col>LightActiveDistance</th><th scope=col>SedentaryActiveDistance</th><th scope=col>VeryActiveMinutes</th><th scope=col>FairlyActiveMinutes</th><th scope=col>LightlyActiveMinutes</th><th scope=col>SedentaryMinutes</th><th scope=col>Calories</th></tr>\n",
       "\t<tr><th></th><th scope=col>&lt;dbl&gt;</th><th scope=col>&lt;chr&gt;</th><th scope=col>&lt;dttm&gt;</th><th scope=col>&lt;int&gt;</th><th scope=col>&lt;int&gt;</th><th scope=col>&lt;int&gt;</th><th scope=col>&lt;dttm&gt;</th><th scope=col>&lt;int&gt;</th><th scope=col>&lt;dbl&gt;</th><th scope=col>&lt;dbl&gt;</th><th scope=col>&lt;dbl&gt;</th><th scope=col>&lt;dbl&gt;</th><th scope=col>&lt;dbl&gt;</th><th scope=col>&lt;dbl&gt;</th><th scope=col>&lt;dbl&gt;</th><th scope=col>&lt;int&gt;</th><th scope=col>&lt;int&gt;</th><th scope=col>&lt;int&gt;</th><th scope=col>&lt;int&gt;</th><th scope=col>&lt;int&gt;</th></tr>\n",
       "</thead>\n",
       "<tbody>\n",
       "\t<tr><th scope=row>1</th><td>1503960366</td><td>04/12/2020</td><td>2020-04-12</td><td>1</td><td>327</td><td>346</td><td>2020-04-12</td><td>13162</td><td>8.50</td><td>8.50</td><td>0</td><td>1.88</td><td>0.55</td><td>6.06</td><td>0</td><td>25</td><td>13</td><td>328</td><td>728</td><td>1985</td></tr>\n",
       "\t<tr><th scope=row>2</th><td>1503960366</td><td>04/13/2020</td><td>2020-04-13</td><td>2</td><td>384</td><td>407</td><td>2020-04-13</td><td>10735</td><td>6.97</td><td>6.97</td><td>0</td><td>1.57</td><td>0.69</td><td>4.71</td><td>0</td><td>21</td><td>19</td><td>217</td><td>776</td><td>1797</td></tr>\n",
       "\t<tr><th scope=row>3</th><td>1503960366</td><td>04/15/2020</td><td>2020-04-15</td><td>1</td><td>412</td><td>442</td><td>2020-04-15</td><td> 9762</td><td>6.28</td><td>6.28</td><td>0</td><td>2.14</td><td>1.26</td><td>2.83</td><td>0</td><td>29</td><td>34</td><td>209</td><td>726</td><td>1745</td></tr>\n",
       "\t<tr><th scope=row>4</th><td>1503960366</td><td>04/16/2020</td><td>2020-04-16</td><td>2</td><td>340</td><td>367</td><td>2020-04-16</td><td>12669</td><td>8.16</td><td>8.16</td><td>0</td><td>2.71</td><td>0.41</td><td>5.04</td><td>0</td><td>36</td><td>10</td><td>221</td><td>773</td><td>1863</td></tr>\n",
       "\t<tr><th scope=row>5</th><td>1503960366</td><td>04/17/2020</td><td>2020-04-17</td><td>1</td><td>700</td><td>712</td><td>2020-04-17</td><td> 9705</td><td>6.48</td><td>6.48</td><td>0</td><td>3.19</td><td>0.78</td><td>2.51</td><td>0</td><td>38</td><td>20</td><td>164</td><td>539</td><td>1728</td></tr>\n",
       "\t<tr><th scope=row>6</th><td>1503960366</td><td>04/19/2020</td><td>2020-04-19</td><td>1</td><td>304</td><td>320</td><td>2020-04-19</td><td>15506</td><td>9.88</td><td>9.88</td><td>0</td><td>3.53</td><td>1.32</td><td>5.03</td><td>0</td><td>50</td><td>31</td><td>264</td><td>775</td><td>2035</td></tr>\n",
       "</tbody>\n",
       "</table>\n"
      ],
      "text/latex": [
       "A data.frame: 6 × 20\n",
       "\\begin{tabular}{r|llllllllllllllllllll}\n",
       "  & Id & date & SleepDay & TotalSleepRecords & TotalMinutesAsleep & TotalTimeInBed & ActivityDate & TotalSteps & TotalDistance & TrackerDistance & LoggedActivitiesDistance & VeryActiveDistance & ModeratelyActiveDistance & LightActiveDistance & SedentaryActiveDistance & VeryActiveMinutes & FairlyActiveMinutes & LightlyActiveMinutes & SedentaryMinutes & Calories\\\\\n",
       "  & <dbl> & <chr> & <dttm> & <int> & <int> & <int> & <dttm> & <int> & <dbl> & <dbl> & <dbl> & <dbl> & <dbl> & <dbl> & <dbl> & <int> & <int> & <int> & <int> & <int>\\\\\n",
       "\\hline\n",
       "\t1 & 1503960366 & 04/12/2020 & 2020-04-12 & 1 & 327 & 346 & 2020-04-12 & 13162 & 8.50 & 8.50 & 0 & 1.88 & 0.55 & 6.06 & 0 & 25 & 13 & 328 & 728 & 1985\\\\\n",
       "\t2 & 1503960366 & 04/13/2020 & 2020-04-13 & 2 & 384 & 407 & 2020-04-13 & 10735 & 6.97 & 6.97 & 0 & 1.57 & 0.69 & 4.71 & 0 & 21 & 19 & 217 & 776 & 1797\\\\\n",
       "\t3 & 1503960366 & 04/15/2020 & 2020-04-15 & 1 & 412 & 442 & 2020-04-15 &  9762 & 6.28 & 6.28 & 0 & 2.14 & 1.26 & 2.83 & 0 & 29 & 34 & 209 & 726 & 1745\\\\\n",
       "\t4 & 1503960366 & 04/16/2020 & 2020-04-16 & 2 & 340 & 367 & 2020-04-16 & 12669 & 8.16 & 8.16 & 0 & 2.71 & 0.41 & 5.04 & 0 & 36 & 10 & 221 & 773 & 1863\\\\\n",
       "\t5 & 1503960366 & 04/17/2020 & 2020-04-17 & 1 & 700 & 712 & 2020-04-17 &  9705 & 6.48 & 6.48 & 0 & 3.19 & 0.78 & 2.51 & 0 & 38 & 20 & 164 & 539 & 1728\\\\\n",
       "\t6 & 1503960366 & 04/19/2020 & 2020-04-19 & 1 & 304 & 320 & 2020-04-19 & 15506 & 9.88 & 9.88 & 0 & 3.53 & 1.32 & 5.03 & 0 & 50 & 31 & 264 & 775 & 2035\\\\\n",
       "\\end{tabular}\n"
      ],
      "text/markdown": [
       "\n",
       "A data.frame: 6 × 20\n",
       "\n",
       "| <!--/--> | Id &lt;dbl&gt; | date &lt;chr&gt; | SleepDay &lt;dttm&gt; | TotalSleepRecords &lt;int&gt; | TotalMinutesAsleep &lt;int&gt; | TotalTimeInBed &lt;int&gt; | ActivityDate &lt;dttm&gt; | TotalSteps &lt;int&gt; | TotalDistance &lt;dbl&gt; | TrackerDistance &lt;dbl&gt; | LoggedActivitiesDistance &lt;dbl&gt; | VeryActiveDistance &lt;dbl&gt; | ModeratelyActiveDistance &lt;dbl&gt; | LightActiveDistance &lt;dbl&gt; | SedentaryActiveDistance &lt;dbl&gt; | VeryActiveMinutes &lt;int&gt; | FairlyActiveMinutes &lt;int&gt; | LightlyActiveMinutes &lt;int&gt; | SedentaryMinutes &lt;int&gt; | Calories &lt;int&gt; |\n",
       "|---|---|---|---|---|---|---|---|---|---|---|---|---|---|---|---|---|---|---|---|---|\n",
       "| 1 | 1503960366 | 04/12/2020 | 2020-04-12 | 1 | 327 | 346 | 2020-04-12 | 13162 | 8.50 | 8.50 | 0 | 1.88 | 0.55 | 6.06 | 0 | 25 | 13 | 328 | 728 | 1985 |\n",
       "| 2 | 1503960366 | 04/13/2020 | 2020-04-13 | 2 | 384 | 407 | 2020-04-13 | 10735 | 6.97 | 6.97 | 0 | 1.57 | 0.69 | 4.71 | 0 | 21 | 19 | 217 | 776 | 1797 |\n",
       "| 3 | 1503960366 | 04/15/2020 | 2020-04-15 | 1 | 412 | 442 | 2020-04-15 |  9762 | 6.28 | 6.28 | 0 | 2.14 | 1.26 | 2.83 | 0 | 29 | 34 | 209 | 726 | 1745 |\n",
       "| 4 | 1503960366 | 04/16/2020 | 2020-04-16 | 2 | 340 | 367 | 2020-04-16 | 12669 | 8.16 | 8.16 | 0 | 2.71 | 0.41 | 5.04 | 0 | 36 | 10 | 221 | 773 | 1863 |\n",
       "| 5 | 1503960366 | 04/17/2020 | 2020-04-17 | 1 | 700 | 712 | 2020-04-17 |  9705 | 6.48 | 6.48 | 0 | 3.19 | 0.78 | 2.51 | 0 | 38 | 20 | 164 | 539 | 1728 |\n",
       "| 6 | 1503960366 | 04/19/2020 | 2020-04-19 | 1 | 304 | 320 | 2020-04-19 | 15506 | 9.88 | 9.88 | 0 | 3.53 | 1.32 | 5.03 | 0 | 50 | 31 | 264 | 775 | 2035 |\n",
       "\n"
      ],
      "text/plain": [
       "  Id         date       SleepDay   TotalSleepRecords TotalMinutesAsleep\n",
       "1 1503960366 04/12/2020 2020-04-12 1                 327               \n",
       "2 1503960366 04/13/2020 2020-04-13 2                 384               \n",
       "3 1503960366 04/15/2020 2020-04-15 1                 412               \n",
       "4 1503960366 04/16/2020 2020-04-16 2                 340               \n",
       "5 1503960366 04/17/2020 2020-04-17 1                 700               \n",
       "6 1503960366 04/19/2020 2020-04-19 1                 304               \n",
       "  TotalTimeInBed ActivityDate TotalSteps TotalDistance TrackerDistance\n",
       "1 346            2020-04-12   13162      8.50          8.50           \n",
       "2 407            2020-04-13   10735      6.97          6.97           \n",
       "3 442            2020-04-15    9762      6.28          6.28           \n",
       "4 367            2020-04-16   12669      8.16          8.16           \n",
       "5 712            2020-04-17    9705      6.48          6.48           \n",
       "6 320            2020-04-19   15506      9.88          9.88           \n",
       "  LoggedActivitiesDistance VeryActiveDistance ModeratelyActiveDistance\n",
       "1 0                        1.88               0.55                    \n",
       "2 0                        1.57               0.69                    \n",
       "3 0                        2.14               1.26                    \n",
       "4 0                        2.71               0.41                    \n",
       "5 0                        3.19               0.78                    \n",
       "6 0                        3.53               1.32                    \n",
       "  LightActiveDistance SedentaryActiveDistance VeryActiveMinutes\n",
       "1 6.06                0                       25               \n",
       "2 4.71                0                       21               \n",
       "3 2.83                0                       29               \n",
       "4 5.04                0                       36               \n",
       "5 2.51                0                       38               \n",
       "6 5.03                0                       50               \n",
       "  FairlyActiveMinutes LightlyActiveMinutes SedentaryMinutes Calories\n",
       "1 13                  328                  728              1985    \n",
       "2 19                  217                  776              1797    \n",
       "3 34                  209                  726              1745    \n",
       "4 10                  221                  773              1863    \n",
       "5 20                  164                  539              1728    \n",
       "6 31                  264                  775              2035    "
      ]
     },
     "metadata": {},
     "output_type": "display_data"
    }
   ],
   "source": [
    "merged_data <- merge(sleep_day, daily_activity, by=c('Id', 'date'))\n",
    "head(merged_data)\n"
   ]
  },
  {
   "cell_type": "code",
   "execution_count": 24,
   "id": "5fb88283",
   "metadata": {
    "execution": {
     "iopub.execute_input": "2023-09-05T12:26:03.879327Z",
     "iopub.status.busy": "2023-09-05T12:26:03.877480Z",
     "iopub.status.idle": "2023-09-05T12:26:04.298742Z",
     "shell.execute_reply": "2023-09-05T12:26:04.297990Z"
    },
    "papermill": {
     "duration": 0.450844,
     "end_time": "2023-09-05T12:26:04.298941",
     "exception": false,
     "start_time": "2023-09-05T12:26:03.848097",
     "status": "completed"
    },
    "tags": []
   },
   "outputs": [
    {
     "name": "stderr",
     "output_type": "stream",
     "text": [
      "`geom_smooth()` using method = 'loess' and formula 'y ~ x'\n",
      "\n"
     ]
    },
    {
     "data": {
      "image/png": "[encoded data removed]"
     },
     "metadata": {
      "image/png": {
       "height": 420,
       "width": 420
      }
     },
     "output_type": "display_data"
    }
   ],
   "source": [
    "#PLOT2: \"Total Steps v/s Calories\"\n",
    "\n",
    "ggplot(data = merged_data)+\n",
    "geom_point(mapping = aes(x = TotalSteps, y = Calories)) + \n",
    "geom_smooth(mapping = aes(x = TotalSteps, y = Calories)) +\n",
    "labs(title= \"Total Steps v/s Calories\", subtitle=\"The number of calories burned increases as total steps increases\") \n"
   ]
  },
  {
   "cell_type": "markdown",
   "id": "583d514d",
   "metadata": {
    "papermill": {
     "duration": 0.028374,
     "end_time": "2023-09-05T12:26:04.355198",
     "exception": false,
     "start_time": "2023-09-05T12:26:04.326824",
     "status": "completed"
    },
    "tags": []
   },
   "source": [
    "**Analysis:**\n",
    "A positive correlation between Total Steps and Calories is observed, which shows that, more active the people are, more calories are burned."
   ]
  },
  {
   "cell_type": "code",
   "execution_count": 25,
   "id": "55c42e95",
   "metadata": {
    "execution": {
     "iopub.execute_input": "2023-09-05T12:26:04.417642Z",
     "iopub.status.busy": "2023-09-05T12:26:04.415068Z",
     "iopub.status.idle": "2023-09-05T12:26:04.740208Z",
     "shell.execute_reply": "2023-09-05T12:26:04.739520Z"
    },
    "papermill": {
     "duration": 0.357552,
     "end_time": "2023-09-05T12:26:04.740368",
     "exception": false,
     "start_time": "2023-09-05T12:26:04.382816",
     "status": "completed"
    },
    "tags": []
   },
   "outputs": [
    {
     "name": "stderr",
     "output_type": "stream",
     "text": [
      "`geom_smooth()` using method = 'loess' and formula 'y ~ x'\n",
      "\n"
     ]
    },
    {
     "data": {
      "image/png": "[encoded data removed]"
     },
     "metadata": {
      "image/png": {
       "height": 420,
       "width": 420
      }
     },
     "output_type": "display_data"
    }
   ],
   "source": [
    "#PLOT3: \"Sleeping v/s Sedentary Minutes\"\n",
    "\n",
    "ggplot(data=merged_data)+\n",
    "geom_point(mapping=aes(x=TotalMinutesAsleep, y = SedentaryMinutes))+\n",
    "geom_smooth(mapping=aes(x=TotalMinutesAsleep, y = SedentaryMinutes), color='purple')+\n",
    "labs(title= \"Time Spent Sleeping vs SedentaryMinutes\", subtitle=\"The length of time spent sleeping vs time spent being inactive\")\n"
   ]
  },
  {
   "cell_type": "markdown",
   "id": "531db5f8",
   "metadata": {
    "papermill": {
     "duration": 0.028194,
     "end_time": "2023-09-05T12:26:04.797640",
     "exception": false,
     "start_time": "2023-09-05T12:26:04.769446",
     "status": "completed"
    },
    "tags": []
   },
   "source": [
    "**Analysis:**\n",
    "We can observe in the plot that if time spent in sleeping is increasing then sedentary time is also reducing. If participants wants to actively reduce their sedentary time then Bellabeat could include a feature in their app, notifying people about their basic day to day activities example, when to sleep, when to wake up, & when to do physical exercise.  "
   ]
  },
  {
   "cell_type": "code",
   "execution_count": 26,
   "id": "9340d1d6",
   "metadata": {
    "execution": {
     "iopub.execute_input": "2023-09-05T12:26:04.858698Z",
     "iopub.status.busy": "2023-09-05T12:26:04.856832Z",
     "iopub.status.idle": "2023-09-05T12:26:05.162609Z",
     "shell.execute_reply": "2023-09-05T12:26:05.161437Z"
    },
    "papermill": {
     "duration": 0.338258,
     "end_time": "2023-09-05T12:26:05.162802",
     "exception": false,
     "start_time": "2023-09-05T12:26:04.824544",
     "status": "completed"
    },
    "tags": []
   },
   "outputs": [
    {
     "data": {
      "text/html": [
       "<table class=\"dataframe\">\n",
       "<caption>A data.frame: 4 × 12</caption>\n",
       "<thead>\n",
       "\t<tr><th></th><th scope=col>Id</th><th scope=col>ActivityDay</th><th scope=col>SedentaryMinutes</th><th scope=col>LightlyActiveMinutes</th><th scope=col>FairlyActiveMinutes</th><th scope=col>VeryActiveMinutes</th><th scope=col>SedentaryActiveDistance</th><th scope=col>LightActiveDistance</th><th scope=col>ModeratelyActiveDistance</th><th scope=col>VeryActiveDistance</th><th scope=col>TotalActiveMinutes</th><th scope=col>TotalActiveDistance</th></tr>\n",
       "\t<tr><th></th><th scope=col>&lt;dbl&gt;</th><th scope=col>&lt;date&gt;</th><th scope=col>&lt;int&gt;</th><th scope=col>&lt;int&gt;</th><th scope=col>&lt;int&gt;</th><th scope=col>&lt;int&gt;</th><th scope=col>&lt;dbl&gt;</th><th scope=col>&lt;dbl&gt;</th><th scope=col>&lt;dbl&gt;</th><th scope=col>&lt;dbl&gt;</th><th scope=col>&lt;int&gt;</th><th scope=col>&lt;dbl&gt;</th></tr>\n",
       "</thead>\n",
       "<tbody>\n",
       "\t<tr><th scope=row>1</th><td>1503960366</td><td>2016-04-12</td><td> 728</td><td>328</td><td>13</td><td>25</td><td>0</td><td>6.06</td><td>0.55</td><td>1.88</td><td>1094</td><td>8.49</td></tr>\n",
       "\t<tr><th scope=row>2</th><td>1503960366</td><td>2016-04-13</td><td> 776</td><td>217</td><td>19</td><td>21</td><td>0</td><td>4.71</td><td>0.69</td><td>1.57</td><td>1033</td><td>6.97</td></tr>\n",
       "\t<tr><th scope=row>3</th><td>1503960366</td><td>2016-04-14</td><td>1218</td><td>181</td><td>11</td><td>30</td><td>0</td><td>3.91</td><td>0.40</td><td>2.44</td><td>1440</td><td>6.75</td></tr>\n",
       "\t<tr><th scope=row>4</th><td>1503960366</td><td>2016-04-15</td><td> 726</td><td>209</td><td>34</td><td>29</td><td>0</td><td>2.83</td><td>1.26</td><td>2.14</td><td> 998</td><td>6.23</td></tr>\n",
       "</tbody>\n",
       "</table>\n"
      ],
      "text/latex": [
       "A data.frame: 4 × 12\n",
       "\\begin{tabular}{r|llllllllllll}\n",
       "  & Id & ActivityDay & SedentaryMinutes & LightlyActiveMinutes & FairlyActiveMinutes & VeryActiveMinutes & SedentaryActiveDistance & LightActiveDistance & ModeratelyActiveDistance & VeryActiveDistance & TotalActiveMinutes & TotalActiveDistance\\\\\n",
       "  & <dbl> & <date> & <int> & <int> & <int> & <int> & <dbl> & <dbl> & <dbl> & <dbl> & <int> & <dbl>\\\\\n",
       "\\hline\n",
       "\t1 & 1503960366 & 2016-04-12 &  728 & 328 & 13 & 25 & 0 & 6.06 & 0.55 & 1.88 & 1094 & 8.49\\\\\n",
       "\t2 & 1503960366 & 2016-04-13 &  776 & 217 & 19 & 21 & 0 & 4.71 & 0.69 & 1.57 & 1033 & 6.97\\\\\n",
       "\t3 & 1503960366 & 2016-04-14 & 1218 & 181 & 11 & 30 & 0 & 3.91 & 0.40 & 2.44 & 1440 & 6.75\\\\\n",
       "\t4 & 1503960366 & 2016-04-15 &  726 & 209 & 34 & 29 & 0 & 2.83 & 1.26 & 2.14 &  998 & 6.23\\\\\n",
       "\\end{tabular}\n"
      ],
      "text/markdown": [
       "\n",
       "A data.frame: 4 × 12\n",
       "\n",
       "| <!--/--> | Id &lt;dbl&gt; | ActivityDay &lt;date&gt; | SedentaryMinutes &lt;int&gt; | LightlyActiveMinutes &lt;int&gt; | FairlyActiveMinutes &lt;int&gt; | VeryActiveMinutes &lt;int&gt; | SedentaryActiveDistance &lt;dbl&gt; | LightActiveDistance &lt;dbl&gt; | ModeratelyActiveDistance &lt;dbl&gt; | VeryActiveDistance &lt;dbl&gt; | TotalActiveMinutes &lt;int&gt; | TotalActiveDistance &lt;dbl&gt; |\n",
       "|---|---|---|---|---|---|---|---|---|---|---|---|---|\n",
       "| 1 | 1503960366 | 2016-04-12 |  728 | 328 | 13 | 25 | 0 | 6.06 | 0.55 | 1.88 | 1094 | 8.49 |\n",
       "| 2 | 1503960366 | 2016-04-13 |  776 | 217 | 19 | 21 | 0 | 4.71 | 0.69 | 1.57 | 1033 | 6.97 |\n",
       "| 3 | 1503960366 | 2016-04-14 | 1218 | 181 | 11 | 30 | 0 | 3.91 | 0.40 | 2.44 | 1440 | 6.75 |\n",
       "| 4 | 1503960366 | 2016-04-15 |  726 | 209 | 34 | 29 | 0 | 2.83 | 1.26 | 2.14 |  998 | 6.23 |\n",
       "\n"
      ],
      "text/plain": [
       "  Id         ActivityDay SedentaryMinutes LightlyActiveMinutes\n",
       "1 1503960366 2016-04-12   728             328                 \n",
       "2 1503960366 2016-04-13   776             217                 \n",
       "3 1503960366 2016-04-14  1218             181                 \n",
       "4 1503960366 2016-04-15   726             209                 \n",
       "  FairlyActiveMinutes VeryActiveMinutes SedentaryActiveDistance\n",
       "1 13                  25                0                      \n",
       "2 19                  21                0                      \n",
       "3 11                  30                0                      \n",
       "4 34                  29                0                      \n",
       "  LightActiveDistance ModeratelyActiveDistance VeryActiveDistance\n",
       "1 6.06                0.55                     1.88              \n",
       "2 4.71                0.69                     1.57              \n",
       "3 3.91                0.40                     2.44              \n",
       "4 2.83                1.26                     2.14              \n",
       "  TotalActiveMinutes TotalActiveDistance\n",
       "1 1094               8.49               \n",
       "2 1033               6.97               \n",
       "3 1440               6.75               \n",
       "4  998               6.23               "
      ]
     },
     "metadata": {},
     "output_type": "display_data"
    },
    {
     "data": {
      "image/png": "[encoded data removed]"
     },
     "metadata": {
      "image/png": {
       "height": 420,
       "width": 420
      }
     },
     "output_type": "display_data"
    }
   ],
   "source": [
    "#PLOT4: \"Total active minutes v/s Activity Day\"\n",
    "\n",
    "daily_intensities$ActivityDay <- mdy(daily_intensities$ActivityDay)  \n",
    "daily_intensities <- mutate(daily_intensities,TotalActiveMinutes = SedentaryMinutes + LightlyActiveMinutes + FairlyActiveMinutes + VeryActiveMinutes)\n",
    "daily_intensities <- mutate(daily_intensities,TotalActiveDistance = SedentaryActiveDistance + LightActiveDistance + ModeratelyActiveDistance + VeryActiveDistance)\n",
    "\n",
    "head(daily_intensities, n=4)\n",
    "\n",
    "ggplot(daily_intensities, aes(x=ActivityDay, y=TotalActiveMinutes)) + \n",
    "geom_bar(stat=\"identity\", width=.7, fill=\"purple\")\n"
   ]
  },
  {
   "cell_type": "code",
   "execution_count": 27,
   "id": "90157ee9",
   "metadata": {
    "execution": {
     "iopub.execute_input": "2023-09-05T12:26:05.227314Z",
     "iopub.status.busy": "2023-09-05T12:26:05.225718Z",
     "iopub.status.idle": "2023-09-05T12:26:05.554194Z",
     "shell.execute_reply": "2023-09-05T12:26:05.552424Z"
    },
    "papermill": {
     "duration": 0.363424,
     "end_time": "2023-09-05T12:26:05.554426",
     "exception": false,
     "start_time": "2023-09-05T12:26:05.191002",
     "status": "completed"
    },
    "tags": []
   },
   "outputs": [
    {
     "data": {
      "text/html": [
       "<table class=\"dataframe\">\n",
       "<caption>A data.frame: 4 × 13</caption>\n",
       "<thead>\n",
       "\t<tr><th></th><th scope=col>Id</th><th scope=col>ActivityDay</th><th scope=col>SedentaryMinutes</th><th scope=col>LightlyActiveMinutes</th><th scope=col>FairlyActiveMinutes</th><th scope=col>VeryActiveMinutes</th><th scope=col>SedentaryActiveDistance</th><th scope=col>LightActiveDistance</th><th scope=col>ModeratelyActiveDistance</th><th scope=col>VeryActiveDistance</th><th scope=col>TotalActiveMinutes</th><th scope=col>TotalActiveDistance</th><th scope=col>weekday</th></tr>\n",
       "\t<tr><th></th><th scope=col>&lt;dbl&gt;</th><th scope=col>&lt;date&gt;</th><th scope=col>&lt;int&gt;</th><th scope=col>&lt;int&gt;</th><th scope=col>&lt;int&gt;</th><th scope=col>&lt;int&gt;</th><th scope=col>&lt;dbl&gt;</th><th scope=col>&lt;dbl&gt;</th><th scope=col>&lt;dbl&gt;</th><th scope=col>&lt;dbl&gt;</th><th scope=col>&lt;int&gt;</th><th scope=col>&lt;dbl&gt;</th><th scope=col>&lt;chr&gt;</th></tr>\n",
       "</thead>\n",
       "<tbody>\n",
       "\t<tr><th scope=row>1</th><td>1503960366</td><td>2016-04-12</td><td> 728</td><td>328</td><td>13</td><td>25</td><td>0</td><td>6.06</td><td>0.55</td><td>1.88</td><td>1094</td><td>8.49</td><td>Tuesday  </td></tr>\n",
       "\t<tr><th scope=row>2</th><td>1503960366</td><td>2016-04-13</td><td> 776</td><td>217</td><td>19</td><td>21</td><td>0</td><td>4.71</td><td>0.69</td><td>1.57</td><td>1033</td><td>6.97</td><td>Wednesday</td></tr>\n",
       "\t<tr><th scope=row>3</th><td>1503960366</td><td>2016-04-14</td><td>1218</td><td>181</td><td>11</td><td>30</td><td>0</td><td>3.91</td><td>0.40</td><td>2.44</td><td>1440</td><td>6.75</td><td>Thursday </td></tr>\n",
       "\t<tr><th scope=row>4</th><td>1503960366</td><td>2016-04-15</td><td> 726</td><td>209</td><td>34</td><td>29</td><td>0</td><td>2.83</td><td>1.26</td><td>2.14</td><td> 998</td><td>6.23</td><td>Friday   </td></tr>\n",
       "</tbody>\n",
       "</table>\n"
      ],
      "text/latex": [
       "A data.frame: 4 × 13\n",
       "\\begin{tabular}{r|lllllllllllll}\n",
       "  & Id & ActivityDay & SedentaryMinutes & LightlyActiveMinutes & FairlyActiveMinutes & VeryActiveMinutes & SedentaryActiveDistance & LightActiveDistance & ModeratelyActiveDistance & VeryActiveDistance & TotalActiveMinutes & TotalActiveDistance & weekday\\\\\n",
       "  & <dbl> & <date> & <int> & <int> & <int> & <int> & <dbl> & <dbl> & <dbl> & <dbl> & <int> & <dbl> & <chr>\\\\\n",
       "\\hline\n",
       "\t1 & 1503960366 & 2016-04-12 &  728 & 328 & 13 & 25 & 0 & 6.06 & 0.55 & 1.88 & 1094 & 8.49 & Tuesday  \\\\\n",
       "\t2 & 1503960366 & 2016-04-13 &  776 & 217 & 19 & 21 & 0 & 4.71 & 0.69 & 1.57 & 1033 & 6.97 & Wednesday\\\\\n",
       "\t3 & 1503960366 & 2016-04-14 & 1218 & 181 & 11 & 30 & 0 & 3.91 & 0.40 & 2.44 & 1440 & 6.75 & Thursday \\\\\n",
       "\t4 & 1503960366 & 2016-04-15 &  726 & 209 & 34 & 29 & 0 & 2.83 & 1.26 & 2.14 &  998 & 6.23 & Friday   \\\\\n",
       "\\end{tabular}\n"
      ],
      "text/markdown": [
       "\n",
       "A data.frame: 4 × 13\n",
       "\n",
       "| <!--/--> | Id &lt;dbl&gt; | ActivityDay &lt;date&gt; | SedentaryMinutes &lt;int&gt; | LightlyActiveMinutes &lt;int&gt; | FairlyActiveMinutes &lt;int&gt; | VeryActiveMinutes &lt;int&gt; | SedentaryActiveDistance &lt;dbl&gt; | LightActiveDistance &lt;dbl&gt; | ModeratelyActiveDistance &lt;dbl&gt; | VeryActiveDistance &lt;dbl&gt; | TotalActiveMinutes &lt;int&gt; | TotalActiveDistance &lt;dbl&gt; | weekday &lt;chr&gt; |\n",
       "|---|---|---|---|---|---|---|---|---|---|---|---|---|---|\n",
       "| 1 | 1503960366 | 2016-04-12 |  728 | 328 | 13 | 25 | 0 | 6.06 | 0.55 | 1.88 | 1094 | 8.49 | Tuesday   |\n",
       "| 2 | 1503960366 | 2016-04-13 |  776 | 217 | 19 | 21 | 0 | 4.71 | 0.69 | 1.57 | 1033 | 6.97 | Wednesday |\n",
       "| 3 | 1503960366 | 2016-04-14 | 1218 | 181 | 11 | 30 | 0 | 3.91 | 0.40 | 2.44 | 1440 | 6.75 | Thursday  |\n",
       "| 4 | 1503960366 | 2016-04-15 |  726 | 209 | 34 | 29 | 0 | 2.83 | 1.26 | 2.14 |  998 | 6.23 | Friday    |\n",
       "\n"
      ],
      "text/plain": [
       "  Id         ActivityDay SedentaryMinutes LightlyActiveMinutes\n",
       "1 1503960366 2016-04-12   728             328                 \n",
       "2 1503960366 2016-04-13   776             217                 \n",
       "3 1503960366 2016-04-14  1218             181                 \n",
       "4 1503960366 2016-04-15   726             209                 \n",
       "  FairlyActiveMinutes VeryActiveMinutes SedentaryActiveDistance\n",
       "1 13                  25                0                      \n",
       "2 19                  21                0                      \n",
       "3 11                  30                0                      \n",
       "4 34                  29                0                      \n",
       "  LightActiveDistance ModeratelyActiveDistance VeryActiveDistance\n",
       "1 6.06                0.55                     1.88              \n",
       "2 4.71                0.69                     1.57              \n",
       "3 3.91                0.40                     2.44              \n",
       "4 2.83                1.26                     2.14              \n",
       "  TotalActiveMinutes TotalActiveDistance weekday  \n",
       "1 1094               8.49                Tuesday  \n",
       "2 1033               6.97                Wednesday\n",
       "3 1440               6.75                Thursday \n",
       "4  998               6.23                Friday   "
      ]
     },
     "metadata": {},
     "output_type": "display_data"
    },
    {
     "data": {
      "image/png": "[encoded data removed]"
     },
     "metadata": {
      "image/png": {
       "height": 420,
       "width": 420
      }
     },
     "output_type": "display_data"
    }
   ],
   "source": [
    "#PLOT5: \"Weekday v/s Total active distance\"\n",
    "\n",
    "daily_intensities$weekday<- weekdays(daily_intensities$ActivityDay)\n",
    "\n",
    "head(daily_intensities, n=4)\n",
    "\n",
    "ggplot(daily_intensities, aes(x=weekday, y=TotalActiveDistance))+\n",
    "geom_bar(stat=\"identity\", width=.7, fill=\"red\")\n"
   ]
  },
  {
   "cell_type": "markdown",
   "id": "5a1d6cbe",
   "metadata": {
    "papermill": {
     "duration": 0.031502,
     "end_time": "2023-09-05T12:26:05.619849",
     "exception": false,
     "start_time": "2023-09-05T12:26:05.588347",
     "status": "completed"
    },
    "tags": []
   },
   "source": [
    "**Analysis:**\n",
    "From the plot we can observe that Tuesday, Wednesday and Thursday are the days when participants were highly active (i.e. more the active distance, more calories are burned). Statistically people are more relaxed on weekends and the day after that."
   ]
  },
  {
   "cell_type": "code",
   "execution_count": 28,
   "id": "e46c0879",
   "metadata": {
    "execution": {
     "iopub.execute_input": "2023-09-05T12:26:05.688334Z",
     "iopub.status.busy": "2023-09-05T12:26:05.686575Z",
     "iopub.status.idle": "2023-09-05T12:26:05.770327Z",
     "shell.execute_reply": "2023-09-05T12:26:05.768645Z"
    },
    "papermill": {
     "duration": 0.120536,
     "end_time": "2023-09-05T12:26:05.770500",
     "exception": false,
     "start_time": "2023-09-05T12:26:05.649964",
     "status": "completed"
    },
    "tags": []
   },
   "outputs": [
    {
     "data": {
      "text/html": [
       "<table class=\"dataframe\">\n",
       "<caption>A data.frame: 4 × 6</caption>\n",
       "<thead>\n",
       "\t<tr><th></th><th scope=col>Id</th><th scope=col>ActivityHour</th><th scope=col>TotalIntensity</th><th scope=col>AverageIntensity</th><th scope=col>time</th><th scope=col>date</th></tr>\n",
       "\t<tr><th></th><th scope=col>&lt;dbl&gt;</th><th scope=col>&lt;dttm&gt;</th><th scope=col>&lt;int&gt;</th><th scope=col>&lt;dbl&gt;</th><th scope=col>&lt;chr&gt;</th><th scope=col>&lt;chr&gt;</th></tr>\n",
       "</thead>\n",
       "<tbody>\n",
       "\t<tr><th scope=row>1</th><td>1503960366</td><td>2016-04-12 00:00:00</td><td>20</td><td>0.333333</td><td>00:00:00</td><td>04/12/16</td></tr>\n",
       "\t<tr><th scope=row>2</th><td>1503960366</td><td>2016-04-12 01:00:00</td><td> 8</td><td>0.133333</td><td>01:00:00</td><td>04/12/16</td></tr>\n",
       "\t<tr><th scope=row>3</th><td>1503960366</td><td>2016-04-12 02:00:00</td><td> 7</td><td>0.116667</td><td>02:00:00</td><td>04/12/16</td></tr>\n",
       "\t<tr><th scope=row>4</th><td>1503960366</td><td>2016-04-12 03:00:00</td><td> 0</td><td>0.000000</td><td>03:00:00</td><td>04/12/16</td></tr>\n",
       "</tbody>\n",
       "</table>\n"
      ],
      "text/latex": [
       "A data.frame: 4 × 6\n",
       "\\begin{tabular}{r|llllll}\n",
       "  & Id & ActivityHour & TotalIntensity & AverageIntensity & time & date\\\\\n",
       "  & <dbl> & <dttm> & <int> & <dbl> & <chr> & <chr>\\\\\n",
       "\\hline\n",
       "\t1 & 1503960366 & 2016-04-12 00:00:00 & 20 & 0.333333 & 00:00:00 & 04/12/16\\\\\n",
       "\t2 & 1503960366 & 2016-04-12 01:00:00 &  8 & 0.133333 & 01:00:00 & 04/12/16\\\\\n",
       "\t3 & 1503960366 & 2016-04-12 02:00:00 &  7 & 0.116667 & 02:00:00 & 04/12/16\\\\\n",
       "\t4 & 1503960366 & 2016-04-12 03:00:00 &  0 & 0.000000 & 03:00:00 & 04/12/16\\\\\n",
       "\\end{tabular}\n"
      ],
      "text/markdown": [
       "\n",
       "A data.frame: 4 × 6\n",
       "\n",
       "| <!--/--> | Id &lt;dbl&gt; | ActivityHour &lt;dttm&gt; | TotalIntensity &lt;int&gt; | AverageIntensity &lt;dbl&gt; | time &lt;chr&gt; | date &lt;chr&gt; |\n",
       "|---|---|---|---|---|---|---|\n",
       "| 1 | 1503960366 | 2016-04-12 00:00:00 | 20 | 0.333333 | 00:00:00 | 04/12/16 |\n",
       "| 2 | 1503960366 | 2016-04-12 01:00:00 |  8 | 0.133333 | 01:00:00 | 04/12/16 |\n",
       "| 3 | 1503960366 | 2016-04-12 02:00:00 |  7 | 0.116667 | 02:00:00 | 04/12/16 |\n",
       "| 4 | 1503960366 | 2016-04-12 03:00:00 |  0 | 0.000000 | 03:00:00 | 04/12/16 |\n",
       "\n"
      ],
      "text/plain": [
       "  Id         ActivityHour        TotalIntensity AverageIntensity time    \n",
       "1 1503960366 2016-04-12 00:00:00 20             0.333333         00:00:00\n",
       "2 1503960366 2016-04-12 01:00:00  8             0.133333         01:00:00\n",
       "3 1503960366 2016-04-12 02:00:00  7             0.116667         02:00:00\n",
       "4 1503960366 2016-04-12 03:00:00  0             0.000000         03:00:00\n",
       "  date    \n",
       "1 04/12/16\n",
       "2 04/12/16\n",
       "3 04/12/16\n",
       "4 04/12/16"
      ]
     },
     "metadata": {},
     "output_type": "display_data"
    }
   ],
   "source": [
    "#hourly_intensities\n",
    "\n",
    "hourly_intensities$ActivityHour=as.POSIXct(hourly_intensities$ActivityHour, format=\"%m/%d/%Y %I:%M:%S %p\", tz=Sys.timezone())\n",
    "hourly_intensities$time <- format(hourly_intensities$ActivityHour, format = \"%H:%M:%S\")\n",
    "hourly_intensities$date <- format(hourly_intensities$ActivityHour, format = \"%m/%d/%y\")\n",
    "\n",
    "head(hourly_intensities,4)\n"
   ]
  },
  {
   "cell_type": "code",
   "execution_count": 29,
   "id": "e0da9983",
   "metadata": {
    "execution": {
     "iopub.execute_input": "2023-09-05T12:26:05.839188Z",
     "iopub.status.busy": "2023-09-05T12:26:05.837709Z",
     "iopub.status.idle": "2023-09-05T12:26:05.873471Z",
     "shell.execute_reply": "2023-09-05T12:26:05.870716Z"
    },
    "papermill": {
     "duration": 0.072473,
     "end_time": "2023-09-05T12:26:05.873648",
     "exception": false,
     "start_time": "2023-09-05T12:26:05.801175",
     "status": "completed"
    },
    "tags": []
   },
   "outputs": [
    {
     "data": {
      "text/html": [
       "<table class=\"dataframe\">\n",
       "<caption>A tibble: 4 × 2</caption>\n",
       "<thead>\n",
       "\t<tr><th scope=col>time</th><th scope=col>mean_intensity</th></tr>\n",
       "\t<tr><th scope=col>&lt;chr&gt;</th><th scope=col>&lt;dbl&gt;</th></tr>\n",
       "</thead>\n",
       "<tbody>\n",
       "\t<tr><td>00:00:00</td><td>2.1295503</td></tr>\n",
       "\t<tr><td>01:00:00</td><td>1.4190782</td></tr>\n",
       "\t<tr><td>02:00:00</td><td>1.0439443</td></tr>\n",
       "\t<tr><td>03:00:00</td><td>0.4437299</td></tr>\n",
       "</tbody>\n",
       "</table>\n"
      ],
      "text/latex": [
       "A tibble: 4 × 2\n",
       "\\begin{tabular}{ll}\n",
       " time & mean\\_intensity\\\\\n",
       " <chr> & <dbl>\\\\\n",
       "\\hline\n",
       "\t 00:00:00 & 2.1295503\\\\\n",
       "\t 01:00:00 & 1.4190782\\\\\n",
       "\t 02:00:00 & 1.0439443\\\\\n",
       "\t 03:00:00 & 0.4437299\\\\\n",
       "\\end{tabular}\n"
      ],
      "text/markdown": [
       "\n",
       "A tibble: 4 × 2\n",
       "\n",
       "| time &lt;chr&gt; | mean_intensity &lt;dbl&gt; |\n",
       "|---|---|\n",
       "| 00:00:00 | 2.1295503 |\n",
       "| 01:00:00 | 1.4190782 |\n",
       "| 02:00:00 | 1.0439443 |\n",
       "| 03:00:00 | 0.4437299 |\n",
       "\n"
      ],
      "text/plain": [
       "  time     mean_intensity\n",
       "1 00:00:00 2.1295503     \n",
       "2 01:00:00 1.4190782     \n",
       "3 02:00:00 1.0439443     \n",
       "4 03:00:00 0.4437299     "
      ]
     },
     "metadata": {},
     "output_type": "display_data"
    }
   ],
   "source": [
    "intensity<-hourly_intensities %>% \n",
    "group_by(time) %>%\n",
    "summarise(mean_intensity = mean(TotalIntensity))\n",
    "head(intensity,4)\n"
   ]
  },
  {
   "cell_type": "code",
   "execution_count": 30,
   "id": "014a8958",
   "metadata": {
    "execution": {
     "iopub.execute_input": "2023-09-05T12:26:05.943695Z",
     "iopub.status.busy": "2023-09-05T12:26:05.942381Z",
     "iopub.status.idle": "2023-09-05T12:26:06.209085Z",
     "shell.execute_reply": "2023-09-05T12:26:06.207181Z"
    },
    "papermill": {
     "duration": 0.304093,
     "end_time": "2023-09-05T12:26:06.209249",
     "exception": false,
     "start_time": "2023-09-05T12:26:05.905156",
     "status": "completed"
    },
    "tags": []
   },
   "outputs": [
    {
     "name": "stderr",
     "output_type": "stream",
     "text": [
      "Warning message:\n",
      "“Ignoring unknown parameters: binwidth, bins, pad”\n"
     ]
    },
    {
     "data": {
      "image/png": "[encoded data removed]"
     },
     "metadata": {
      "image/png": {
       "height": 420,
       "width": 420
      }
     },
     "output_type": "display_data"
    }
   ],
   "source": [
    "#PLOT6: \"Time v/s Average Intensity\"\n",
    "ggplot(data = intensity , aes(x= time, y=mean_intensity)) + geom_histogram(stat=\"identity\",fill = \"purple\")+\n",
    "theme(axis.text.x = element_text(angle = 45)) +\n",
    "labs(title=\"Time v/s Average Intensity\")\n"
   ]
  },
  {
   "cell_type": "markdown",
   "id": "d95a2a7f",
   "metadata": {
    "papermill": {
     "duration": 0.032219,
     "end_time": "2023-09-05T12:26:06.273200",
     "exception": false,
     "start_time": "2023-09-05T12:26:06.240981",
     "status": "completed"
    },
    "tags": []
   },
   "source": [
    "**Analysis:**\n",
    "Above plot shows that people are more active in the evening, around 4pm to 7pm, than compared to morning."
   ]
  },
  {
   "cell_type": "markdown",
   "id": "bee0d159",
   "metadata": {
    "papermill": {
     "duration": 0.031379,
     "end_time": "2023-09-05T12:26:06.338316",
     "exception": false,
     "start_time": "2023-09-05T12:26:06.306937",
     "status": "completed"
    },
    "tags": []
   },
   "source": [
    "**PHASE 5: SHARE**\n",
    "\n"
   ]
  },
  {
   "cell_type": "markdown",
   "id": "e4ff01d5",
   "metadata": {
    "papermill": {
     "duration": 0.030715,
     "end_time": "2023-09-05T12:26:06.435599",
     "exception": false,
     "start_time": "2023-09-05T12:26:06.404884",
     "status": "completed"
    },
    "tags": []
   },
   "source": [
    "PFB the conclusions and recommendations based on the analysis done from data pulled and plots prepared:\n",
    "\n",
    "* Average steps taken per day is around 7000-8000, which is less according to WHO. Bellabeat app can add a feature notifying how many steps they have covered and encourage them to meet the target for maintaining a healthy lifestyle. \n",
    "* As we noticed that there is a linear relation between distance covered and calories burned. From data, we also noticed that participants had a sound sleep when they burned more calories . \n",
    "* From analysis, we found out that people are more active in evening time (between 4pm-7pm) and less active in morning. Bellabeat can use this data and add a feature in their app, notifying people to go out or workout in evening time. \n",
    "* We noticed that there was a gap between “time in bed” and “time asleep” which needs to be reduced for a healthy lifestyle. Bellabeat can share short videos to users explaining why it is important to not use phones and any electronic item before sleep. And also can notify them it’s “time-to-sleep”. \n",
    "* Bellabeat should also track calories consumption apart from tracking activities and water consumption. If a person consumes a healthy meal in a day then he/she feels active throughout the day. \n"
   ]
  }
 ],
 "kernelspec": {
  "display_name": "R",
  "language": "R",
  "name": "ir"
 },
 "language_info": {
  "codemirror_mode": "r",
  "file_extension": ".r",
  "mimetype": "text/x-r-source",
  "name": "R",
  "pygments_lexer": "r",
  "version": "4.0.5"
 },
 "metadata": {
  "kernelspec": {
   "display_name": "R",
   "language": "R",
   "name": "ir"
  },
  "language_info": {
   "codemirror_mode": "r",
   "file_extension": ".r",
   "mimetype": "text/x-r-source",
   "name": "R",
   "pygments_lexer": "r",
   "version": "4.0.5"
  },
  "papermill": {
   "default_parameters": {},
   "duration": 13.353078,
   "end_time": "2023-09-05T12:26:06.578777",
   "environment_variables": {},
   "exception": null,
   "input_path": "__notebook__.ipynb",
   "output_path": "__notebook__.ipynb",
   "parameters": {},
   "start_time": "2023-09-05T12:25:53.225699",
   "version": "2.3.3"
  }
 },
 "nbformat": 4,
 "nbformat_minor": 5
}
